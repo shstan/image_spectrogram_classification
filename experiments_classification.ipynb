{
 "cells": [
  {
   "cell_type": "code",
   "execution_count": 1,
   "metadata": {},
   "outputs": [],
   "source": [
    "import numpy as np\n",
    "import pandas as pd\n",
    "import tqdm.notebook as tqdm\n",
    "\n",
    "import torch\n",
    "from torch import nn, optim\n",
    "import torch.nn.functional as F\n",
    "from torch.utils.data import Dataset, DataLoader\n",
    "\n",
    "import torchvision\n",
    "from torchvision import models\n",
    "\n",
    "import pytorch_lightning as pl\n",
    "\n",
    "from transforms.transform import base_transform, augmented_transform, IdentityTransform\n",
    "\n",
    "from models.encoders import get_resnet18_encoder, get_shufflenetv2_encoder, get_alexnet_encoder, SpectrumCNN\n",
    "\n",
    "from models.lit_models import CNN_classifier\n",
    "\n",
    "batch_size = 64"
   ]
  },
  {
   "cell_type": "markdown",
   "metadata": {},
   "source": [
    "# 1. AMP PHASE DATASET"
   ]
  },
  {
   "cell_type": "code",
   "execution_count": 3,
   "metadata": {},
   "outputs": [],
   "source": [
    "train_dataset_amp_phase = torchvision.datasets.ImageFolder('data/images_amp_phase/train', transform=augmented_transform)\n",
    "test_dataset_amp_phase = torchvision.datasets.ImageFolder('data/images_amp_phase/test', transform=base_transform)"
   ]
  },
  {
   "cell_type": "code",
   "execution_count": 4,
   "metadata": {},
   "outputs": [],
   "source": [
    "train_dataloader = DataLoader(train_dataset_amp_phase, shuffle=True, batch_size=batch_size, num_workers=1)\n",
    "val_dataloader = DataLoader(train_dataset_amp_phase, shuffle=False, batch_size=batch_size, num_workers=1)"
   ]
  },
  {
   "cell_type": "code",
   "execution_count": 6,
   "metadata": {},
   "outputs": [],
   "source": [
    "encoder = get_shufflenetv2_encoder()\n",
    "\n",
    "# encoder = models.resnet18(num_classes=512)\n",
    "\n",
    "lit_model = CNN_classifier(encoder=encoder)"
   ]
  },
  {
   "cell_type": "code",
   "execution_count": 7,
   "metadata": {},
   "outputs": [
    {
     "name": "stderr",
     "output_type": "stream",
     "text": [
      "GPU available: True, used: True\n",
      "TPU available: False, using: 0 TPU cores\n",
      "IPU available: False, using: 0 IPUs\n",
      "/home/shstan/anaconda3/envs/pytorch_base/lib/python3.9/site-packages/pytorch_lightning/trainer/configuration_validator.py:118: UserWarning: You defined a `validation_step` but have no `val_dataloader`. Skipping val loop.\n",
      "  rank_zero_warn(\"You defined a `validation_step` but have no `val_dataloader`. Skipping val loop.\")\n",
      "LOCAL_RANK: 0 - CUDA_VISIBLE_DEVICES: [0]\n",
      "/home/shstan/anaconda3/envs/pytorch_base/lib/python3.9/site-packages/pytorch_lightning/trainer/data_loading.py:111: UserWarning: The dataloader, train_dataloader, does not have many workers which may be a bottleneck. Consider increasing the value of the `num_workers` argument` (try 16 which is the number of cpus on this machine) in the `DataLoader` init to improve performance.\n",
      "  rank_zero_warn(\n",
      "Finding best initial lr:  80%|████████  | 80/100 [00:09<00:02,  8.78it/s]\n",
      "LR finder stopped early after 80 steps due to diverging loss.\n",
      "Restoring states from the checkpoint path at /mnt/0636204A36203D55/Repositories/image_spectrogram_classification/lr_find_temp_model_637fcda6-d192-4aef-822f-49a1b9b940b8.ckpt\n"
     ]
    },
    {
     "name": "stdout",
     "output_type": "stream",
     "text": [
      "{'epoch_avg_train_loss': 4.603492769598961}\n"
     ]
    },
    {
     "name": "stderr",
     "output_type": "stream",
     "text": [
      "/tmp/ipykernel_35772/39222409.py:17: UserWarning: Matplotlib is currently using module://matplotlib_inline.backend_inline, which is a non-GUI backend, so cannot show the figure.\n",
      "  fig.show()\n"
     ]
    },
    {
     "name": "stdout",
     "output_type": "stream",
     "text": [
      "0.00017378008287493763\n"
     ]
    },
    {
     "data": {
      "image/png": "[encoded data removed]",
      "text/plain": [
       "<Figure size 432x288 with 1 Axes>"
      ]
     },
     "metadata": {
      "needs_background": "light"
     },
     "output_type": "display_data"
    }
   ],
   "source": [
    "trainer = pl.Trainer(\n",
    "    auto_lr_find=True,\n",
    "    gpus=1, max_epochs=30,\n",
    "    enable_checkpointing=True,\n",
    "    log_every_n_steps=10,\n",
    "    amp_backend=\"native\",\n",
    "    num_sanity_val_steps=0\n",
    ")\n",
    "# Run learning rate finder\n",
    "lr_finder = trainer.tuner.lr_find(lit_model, train_dataloaders=train_dataloader)\n",
    "\n",
    "# Results can be found in\n",
    "lr_finder.results\n",
    "\n",
    "# Plot with\n",
    "fig = lr_finder.plot(suggest=True)\n",
    "fig.show()\n",
    "print(lr_finder.suggestion())"
   ]
  },
  {
   "cell_type": "code",
   "execution_count": 8,
   "metadata": {},
   "outputs": [
    {
     "name": "stderr",
     "output_type": "stream",
     "text": [
      "LOCAL_RANK: 0 - CUDA_VISIBLE_DEVICES: [0]\n",
      "\n",
      "  | Name      | Type              | Params\n",
      "------------------------------------------------\n",
      "0 | encoder   | ShuffleNetV2      | 1.8 M \n",
      "1 | fc        | Sequential        | 263 K \n",
      "2 | criterion | BCEWithLogitsLoss | 0     \n",
      "3 | resizer   | Resize            | 0     \n",
      "------------------------------------------------\n",
      "2.0 M     Trainable params\n",
      "0         Non-trainable params\n",
      "2.0 M     Total params\n",
      "8.166     Total estimated model params size (MB)\n",
      "/home/shstan/anaconda3/envs/pytorch_base/lib/python3.9/site-packages/pytorch_lightning/trainer/data_loading.py:111: UserWarning: The dataloader, train_dataloader, does not have many workers which may be a bottleneck. Consider increasing the value of the `num_workers` argument` (try 16 which is the number of cpus on this machine) in the `DataLoader` init to improve performance.\n",
      "  rank_zero_warn(\n",
      "/home/shstan/anaconda3/envs/pytorch_base/lib/python3.9/site-packages/pytorch_lightning/trainer/data_loading.py:111: UserWarning: The dataloader, val_dataloader 0, does not have many workers which may be a bottleneck. Consider increasing the value of the `num_workers` argument` (try 16 which is the number of cpus on this machine) in the `DataLoader` init to improve performance.\n",
      "  rank_zero_warn(\n"
     ]
    },
    {
     "name": "stdout",
     "output_type": "stream",
     "text": [
      "Epoch 0: 100%|█████████▉| 1021/1022 [01:15<00:00, 13.60it/s, loss=0.117, v_num=2]{'epoch_avg_val_loss': 0.10088029180480051, 'VAL_ROC_AUC': 0.9929848518473171, 'VAL_F1': 0.9889449736954359, 'VAL_Accuracy': 0.980959377965531} 28264\n",
      "Epoch 0: 100%|██████████| 1022/1022 [01:15<00:00, 13.59it/s, loss=0.117, v_num=2]{'epoch_avg_train_loss': 0.1654041753298149}\n",
      "Epoch 1: 100%|█████████▉| 1020/1022 [01:12<00:00, 14.12it/s, loss=0.126, v_num=2]{'epoch_avg_val_loss': 0.06929216333528547, 'VAL_ROC_AUC': 0.9958633146101808, 'VAL_F1': 0.9911133973074127, 'VAL_Accuracy': 0.9846634218018183} 28377\n",
      "Epoch 1: 100%|██████████| 1022/1022 [01:12<00:00, 14.12it/s, loss=0.126, v_num=2]{'epoch_avg_train_loss': 0.09613378884529589}\n",
      "Epoch 2: 100%|█████████▉| 1020/1022 [01:14<00:00, 13.72it/s, loss=0.0794, v_num=2]{'epoch_avg_val_loss': 0.055830372523211366, 'VAL_ROC_AUC': 0.9966458837123879, 'VAL_F1': 0.9936869809542438, 'VAL_Accuracy': 0.9891327639513883} 28233\n",
      "Epoch 2: 100%|██████████| 1022/1022 [01:14<00:00, 13.72it/s, loss=0.0794, v_num=2]{'epoch_avg_train_loss': 0.0819376793096786}\n",
      "Epoch 3: 100%|█████████▉| 1020/1022 [01:12<00:00, 14.09it/s, loss=0.0743, v_num=2]{'epoch_avg_val_loss': 0.06361583711915703, 'VAL_ROC_AUC': 0.9979502242186784, 'VAL_F1': 0.9946707067106318, 'VAL_Accuracy': 0.9908470321731411} 28105\n",
      "Epoch 3: 100%|██████████| 1022/1022 [01:12<00:00, 14.09it/s, loss=0.0743, v_num=2]{'epoch_avg_train_loss': 0.0692514861266834}\n",
      "Epoch 4: 100%|█████████▉| 1020/1022 [01:12<00:00, 14.03it/s, loss=0.0916, v_num=2]{'epoch_avg_val_loss': 0.06333641172403792, 'VAL_ROC_AUC': 0.9968383368024734, 'VAL_F1': 0.9919900541692569, 'VAL_Accuracy': 0.9861940184283834} 28305\n",
      "Epoch 4: 100%|██████████| 1022/1022 [01:12<00:00, 14.03it/s, loss=0.0916, v_num=2]{'epoch_avg_train_loss': 0.06263973407990457}\n",
      "Epoch 5: 100%|█████████▉| 1020/1022 [01:14<00:00, 13.75it/s, loss=0.0476, v_num=2]{'epoch_avg_val_loss': 0.052846824923347156, 'VAL_ROC_AUC': 0.9980567204383359, 'VAL_F1': 0.9934810025400999, 'VAL_Accuracy': 0.9887654207610126} 28297\n",
      "Epoch 5: 100%|██████████| 1022/1022 [01:14<00:00, 13.75it/s, loss=0.0476, v_num=2]{'epoch_avg_train_loss': 0.055173884624277685}\n",
      "Epoch 6: 100%|█████████▉| 1020/1022 [01:12<00:00, 14.14it/s, loss=0.0449, v_num=2]{'epoch_avg_val_loss': 0.05966890688257478, 'VAL_ROC_AUC': 0.9977564969849092, 'VAL_F1': 0.9948761894560191, 'VAL_Accuracy': 0.9912143753635168} 28013\n",
      "Epoch 6: 100%|██████████| 1022/1022 [01:12<00:00, 14.14it/s, loss=0.0449, v_num=2]{'epoch_avg_train_loss': 0.05573898073074061}\n",
      "Epoch 7: 100%|█████████▉| 1020/1022 [01:12<00:00, 14.10it/s, loss=0.0457, v_num=2]{'epoch_avg_val_loss': 0.0367778333108961, 'VAL_ROC_AUC': 0.9988400050506594, 'VAL_F1': 0.9952643760014241, 'VAL_Accuracy': 0.991857225946674} 28170\n",
      "Epoch 7: 100%|██████████| 1022/1022 [01:12<00:00, 14.10it/s, loss=0.0457, v_num=2]{'epoch_avg_train_loss': 0.055401439707199525}\n",
      "Epoch 8: 100%|█████████▉| 1020/1022 [01:12<00:00, 14.11it/s, loss=0.0273, v_num=2]{'epoch_avg_val_loss': 0.03819356275565161, 'VAL_ROC_AUC': 0.9987175227279683, 'VAL_F1': 0.995956465202444, 'VAL_Accuracy': 0.9930510913153947} 28139\n",
      "Epoch 8: 100%|██████████| 1022/1022 [01:12<00:00, 14.11it/s, loss=0.0273, v_num=2]{'epoch_avg_train_loss': 0.049881450357116074}\n",
      "Epoch 9: 100%|█████████▉| 1020/1022 [01:12<00:00, 14.11it/s, loss=0.0634, v_num=2]{'epoch_avg_val_loss': 0.03313041435521775, 'VAL_ROC_AUC': 0.9990610555878663, 'VAL_F1': 0.9959746366486177, 'VAL_Accuracy': 0.993081703247926} 28144\n",
      "Epoch 9: 100%|██████████| 1022/1022 [01:12<00:00, 14.11it/s, loss=0.0634, v_num=2]{'epoch_avg_train_loss': 0.04683098623049746}\n",
      "Epoch 10: 100%|█████████▉| 1020/1022 [01:12<00:00, 14.11it/s, loss=0.0442, v_num=2]{'epoch_avg_val_loss': 0.03936173353927215, 'VAL_ROC_AUC': 0.9983966795739079, 'VAL_F1': 0.9953688860389726, 'VAL_Accuracy': 0.9920408975418619} 28142\n",
      "Epoch 10: 100%|██████████| 1022/1022 [01:12<00:00, 14.10it/s, loss=0.0442, v_num=2]{'epoch_avg_train_loss': 0.04887537327547213}\n",
      "Epoch 11: 100%|█████████▉| 1020/1022 [01:12<00:00, 14.11it/s, loss=0.0578, v_num=2]{'epoch_avg_val_loss': 0.041079320903357766, 'VAL_ROC_AUC': 0.9987301493770854, 'VAL_F1': 0.994825470775468, 'VAL_Accuracy': 0.9910919276333915} 28237\n",
      "Epoch 11: 100%|██████████| 1022/1022 [01:12<00:00, 14.10it/s, loss=0.0578, v_num=2]{'epoch_avg_train_loss': 0.04314302821005075}\n",
      "Epoch 12: 100%|█████████▉| 1020/1022 [01:12<00:00, 14.09it/s, loss=0.0642, v_num=2]{'epoch_avg_val_loss': 0.03342160892150613, 'VAL_ROC_AUC': 0.9991894762618996, 'VAL_F1': 0.9955674232309747, 'VAL_Accuracy': 0.9923776287997061} 28175\n",
      "Epoch 12: 100%|██████████| 1022/1022 [01:12<00:00, 14.09it/s, loss=0.0642, v_num=2]{'epoch_avg_train_loss': 0.04743413566069499}\n",
      "Epoch 13: 100%|█████████▉| 1020/1022 [01:12<00:00, 14.07it/s, loss=0.0506, v_num=2]{'epoch_avg_val_loss': 0.04100976226047009, 'VAL_ROC_AUC': 0.9986197274174294, 'VAL_F1': 0.9944529388756532, 'VAL_Accuracy': 0.9904490770502342} 28246\n",
      "Epoch 13: 100%|██████████| 1022/1022 [01:12<00:00, 14.06it/s, loss=0.0506, v_num=2]{'epoch_avg_train_loss': 0.039787994084857885}\n",
      "Epoch 14: 100%|█████████▉| 1020/1022 [01:12<00:00, 14.09it/s, loss=0.0344, v_num=2]{'epoch_avg_val_loss': 0.042980771193722726, 'VAL_ROC_AUC': 0.9987701605497566, 'VAL_F1': 0.9965213978628896, 'VAL_Accuracy': 0.9940306731563964} 28057\n",
      "Epoch 14: 100%|██████████| 1022/1022 [01:12<00:00, 14.09it/s, loss=0.0344, v_num=2]{'epoch_avg_train_loss': 0.04108823910745138}\n",
      "Epoch 15: 100%|█████████▉| 1020/1022 [01:12<00:00, 14.08it/s, loss=0.0395, v_num=2]{'epoch_avg_val_loss': 0.03861484309525305, 'VAL_ROC_AUC': 0.9987503787994734, 'VAL_F1': 0.9946484131922837, 'VAL_Accuracy': 0.9907858083080785} 28245\n",
      "Epoch 15: 100%|██████████| 1022/1022 [01:12<00:00, 14.08it/s, loss=0.0395, v_num=2]{'epoch_avg_train_loss': 0.03996609298864547}\n",
      "Epoch 16: 100%|█████████▉| 1020/1022 [01:12<00:00, 14.10it/s, loss=0.0394, v_num=2]{'epoch_avg_val_loss': 0.03545030832962344, 'VAL_ROC_AUC': 0.998765982276776, 'VAL_F1': 0.9952490257833769, 'VAL_Accuracy': 0.9918266140141427} 28199\n",
      "Epoch 16: 100%|██████████| 1022/1022 [01:12<00:00, 14.10it/s, loss=0.0394, v_num=2]{'epoch_avg_train_loss': 0.0420493916410191}\n",
      "Epoch 17: 100%|█████████▉| 1020/1022 [01:12<00:00, 14.07it/s, loss=0.0309, v_num=2]{'epoch_avg_val_loss': 0.03555261440186775, 'VAL_ROC_AUC': 0.9990114749456671, 'VAL_F1': 0.996592389074236, 'VAL_Accuracy': 0.9941531208865215} 28051\n",
      "Epoch 17: 100%|██████████| 1022/1022 [01:12<00:00, 14.07it/s, loss=0.0309, v_num=2]{'epoch_avg_train_loss': 0.038455297176474654}\n",
      "Epoch 18: 100%|█████████▉| 1020/1022 [01:12<00:00, 14.09it/s, loss=0.0361, v_num=2]{'epoch_avg_val_loss': 0.02723994593324191, 'VAL_ROC_AUC': 0.999371300009183, 'VAL_F1': 0.9962596181248219, 'VAL_Accuracy': 0.9935714941684268} 28144\n",
      "Epoch 18: 100%|██████████| 1022/1022 [01:12<00:00, 14.09it/s, loss=0.0361, v_num=2]{'epoch_avg_train_loss': 0.036202141138624286}\n",
      "Epoch 19: 100%|█████████▉| 1020/1022 [01:12<00:00, 14.11it/s, loss=0.0259, v_num=2]{'epoch_avg_val_loss': 0.03503736064815974, 'VAL_ROC_AUC': 0.9988250176007837, 'VAL_F1': 0.9962210338680928, 'VAL_Accuracy': 0.9935102703033643} 28100\n",
      "Epoch 19: 100%|██████████| 1022/1022 [01:12<00:00, 14.11it/s, loss=0.0259, v_num=2]{'epoch_avg_train_loss': 0.03789989734399989}\n",
      "Epoch 20: 100%|█████████▉| 1020/1022 [01:12<00:00, 14.11it/s, loss=0.0495, v_num=2]{'epoch_avg_val_loss': 0.02344007227827905, 'VAL_ROC_AUC': 0.9996210245186569, 'VAL_F1': 0.9971133285816108, 'VAL_Accuracy': 0.9950408669299293} 28120\n",
      "Epoch 20: 100%|██████████| 1022/1022 [01:12<00:00, 14.11it/s, loss=0.0495, v_num=2]{'epoch_avg_train_loss': 0.03508392273938901}\n",
      "Epoch 21: 100%|█████████▉| 1020/1022 [01:12<00:00, 14.09it/s, loss=0.0471, v_num=2]{'epoch_avg_val_loss': 0.03183936790386949, 'VAL_ROC_AUC': 0.9993028367871682, 'VAL_F1': 0.9956041218031999, 'VAL_Accuracy': 0.9924388526647687} 28189\n",
      "Epoch 21: 100%|██████████| 1022/1022 [01:12<00:00, 14.09it/s, loss=0.0471, v_num=2]{'epoch_avg_train_loss': 0.03429864277265699}\n",
      "Epoch 22: 100%|█████████▉| 1020/1022 [01:13<00:00, 13.97it/s, loss=0.0357, v_num=2]{'epoch_avg_val_loss': 0.029972920382718732, 'VAL_ROC_AUC': 0.9993661269093024, 'VAL_F1': 0.9965076084245038, 'VAL_Accuracy': 0.9940000612238651} 28122\n",
      "Epoch 22: 100%|██████████| 1022/1022 [01:13<00:00, 13.96it/s, loss=0.0357, v_num=2]{'epoch_avg_train_loss': 0.03516437719254153}\n",
      "Epoch 23: 100%|█████████▉| 1020/1022 [01:14<00:00, 13.74it/s, loss=0.0153, v_num=2]{'epoch_avg_val_loss': 0.031269048035106016, 'VAL_ROC_AUC': 0.9993746441580703, 'VAL_F1': 0.9969325153374233, 'VAL_Accuracy': 0.9947347476046163} 28072\n",
      "Epoch 23: 100%|██████████| 1022/1022 [01:14<00:00, 13.74it/s, loss=0.0153, v_num=2]{'epoch_avg_train_loss': 0.034861067780307196}\n",
      "Epoch 24: 100%|█████████▉| 1020/1022 [01:13<00:00, 13.97it/s, loss=0.0372, v_num=2]{'epoch_avg_val_loss': 0.02852710116478616, 'VAL_ROC_AUC': 0.9991473912577672, 'VAL_F1': 0.9964019806918172, 'VAL_Accuracy': 0.9938163896286772} 28142\n",
      "Epoch 24: 100%|██████████| 1022/1022 [01:13<00:00, 13.97it/s, loss=0.0372, v_num=2]{'epoch_avg_train_loss': 0.03320924761829148}\n",
      "Epoch 25: 100%|█████████▉| 1020/1022 [01:13<00:00, 13.96it/s, loss=0.0518, v_num=2]{'epoch_avg_val_loss': 0.02515654029403419, 'VAL_ROC_AUC': 0.9995108512657259, 'VAL_F1': 0.9971833998859099, 'VAL_Accuracy': 0.9951633146600545} 28096\n",
      "Epoch 25: 100%|██████████| 1022/1022 [01:13<00:00, 13.96it/s, loss=0.0518, v_num=2]{'epoch_avg_train_loss': 0.03259235830763865}\n",
      "Epoch 26: 100%|█████████▉| 1020/1022 [01:14<00:00, 13.75it/s, loss=0.0162, v_num=2]{'epoch_avg_val_loss': 0.028011917089549435, 'VAL_ROC_AUC': 0.99937539793076, 'VAL_F1': 0.9967740210668901, 'VAL_Accuracy': 0.9944592402118346} 28107\n",
      "Epoch 26: 100%|██████████| 1022/1022 [01:14<00:00, 13.75it/s, loss=0.0162, v_num=2]{'epoch_avg_train_loss': 0.02952196150177492}\n",
      "Epoch 27: 100%|█████████▉| 1020/1022 [01:12<00:00, 14.00it/s, loss=0.0392, v_num=2]{'epoch_avg_val_loss': 0.03241126189250512, 'VAL_ROC_AUC': 0.9993666204964952, 'VAL_F1': 0.99548074870116, 'VAL_Accuracy': 0.9922245691370496} 28204\n",
      "Epoch 27: 100%|██████████| 1022/1022 [01:12<00:00, 14.00it/s, loss=0.0392, v_num=2]{'epoch_avg_train_loss': 0.03640962488544465}\n",
      "Epoch 28: 100%|█████████▉| 1020/1022 [01:12<00:00, 14.05it/s, loss=0.0256, v_num=2]{'epoch_avg_val_loss': 0.02528255482261379, 'VAL_ROC_AUC': 0.9994438573265174, 'VAL_F1': 0.9971129170230967, 'VAL_Accuracy': 0.9950408669299293} 28112\n",
      "Epoch 28: 100%|██████████| 1022/1022 [01:12<00:00, 14.05it/s, loss=0.0256, v_num=2]{'epoch_avg_train_loss': 0.031102841213772003}\n",
      "Epoch 29: 100%|█████████▉| 1020/1022 [01:14<00:00, 13.75it/s, loss=0.0425, v_num=2]{'epoch_avg_val_loss': 0.030109258432799237, 'VAL_ROC_AUC': 0.9994268993541279, 'VAL_F1': 0.9971254619793248, 'VAL_Accuracy': 0.9950714788624606} 28009\n",
      "Epoch 29: 100%|██████████| 1022/1022 [01:14<00:00, 13.75it/s, loss=0.0425, v_num=2]{'epoch_avg_train_loss': 0.03182980152847812}\n",
      "Epoch 29: 100%|██████████| 1022/1022 [01:14<00:00, 13.72it/s, loss=0.0425, v_num=2]\n"
     ]
    }
   ],
   "source": [
    "# Pick point based on plot, or get suggestion\n",
    "new_lr = lr_finder.suggestion()\n",
    "\n",
    "# update hparams of the model\n",
    "lit_model.hparams.lr = new_lr\n",
    "\n",
    "# Fit model\n",
    "trainer.fit(lit_model, train_dataloaders=train_dataloader, val_dataloaders=val_dataloader)"
   ]
  },
  {
   "cell_type": "markdown",
   "metadata": {},
   "source": [
    "# 2. SPECTROGRAM DATASET"
   ]
  },
  {
   "cell_type": "code",
   "execution_count": 2,
   "metadata": {},
   "outputs": [],
   "source": [
    "train_dataset_spectrogram = torchvision.datasets.ImageFolder('data/images_amp_phase/train', transform=augmented_transform)\n",
    "test_dataset_spectrogram = torchvision.datasets.ImageFolder('data/images_amp_phase/test', transform=base_transform)"
   ]
  },
  {
   "cell_type": "code",
   "execution_count": 3,
   "metadata": {},
   "outputs": [],
   "source": [
    "train_dataloader = DataLoader(train_dataset_spectrogram, shuffle=True, batch_size=batch_size, num_workers=1)\n",
    "val_dataloader = DataLoader(test_dataset_spectrogram, shuffle=False, batch_size=batch_size, num_workers=1)"
   ]
  },
  {
   "cell_type": "code",
   "execution_count": 5,
   "metadata": {},
   "outputs": [
    {
     "name": "stderr",
     "output_type": "stream",
     "text": [
      "GPU available: True, used: True\n",
      "TPU available: False, using: 0 TPU cores\n",
      "IPU available: False, using: 0 IPUs\n",
      "/home/shstan/anaconda3/envs/pytorch_base/lib/python3.9/site-packages/pytorch_lightning/trainer/configuration_validator.py:118: UserWarning: You defined a `validation_step` but have no `val_dataloader`. Skipping val loop.\n",
      "  rank_zero_warn(\"You defined a `validation_step` but have no `val_dataloader`. Skipping val loop.\")\n",
      "LOCAL_RANK: 0 - CUDA_VISIBLE_DEVICES: [0]\n",
      "/home/shstan/anaconda3/envs/pytorch_base/lib/python3.9/site-packages/pytorch_lightning/trainer/data_loading.py:111: UserWarning: The dataloader, train_dataloader, does not have many workers which may be a bottleneck. Consider increasing the value of the `num_workers` argument` (try 16 which is the number of cpus on this machine) in the `DataLoader` init to improve performance.\n",
      "  rank_zero_warn(\n",
      "Finding best initial lr:  29%|██▉       | 29/100 [00:02<00:05, 12.15it/s]"
     ]
    }
   ],
   "source": [
    "encoder = get_alexnet_encoder()\n",
    "\n",
    "# encoder = models.resnet18(num_classes=512)\n",
    "\n",
    "lit_model = CNN_classifier(encoder=encoder)\n",
    "\n",
    "### prepare trainer\n",
    "\n",
    "trainer = pl.Trainer(\n",
    "    auto_lr_find=True,\n",
    "    gpus=1, max_epochs=30,\n",
    "    enable_checkpointing=True,\n",
    "    log_every_n_steps=10,\n",
    "    amp_backend=\"native\",\n",
    "    num_sanity_val_steps=0\n",
    ")\n",
    "# Run learning rate finder\n",
    "lr_finder = trainer.tuner.lr_find(lit_model, train_dataloaders=train_dataloader)\n",
    "\n",
    "# Results can be found in\n",
    "lr_finder.results\n",
    "\n",
    "# Plot with\n",
    "fig = lr_finder.plot(suggest=True)\n",
    "fig.show()\n",
    "print(lr_finder.suggestion())\n",
    "\n",
    "# Pick point based on plot, or get suggestion\n",
    "new_lr = lr_finder.suggestion()\n",
    "\n",
    "# update hparams of the model\n",
    "lit_model.hparams.lr = new_lr\n",
    "\n",
    "# Fit model\n",
    "trainer.fit(lit_model, train_dataloaders=train_dataloader, val_dataloaders=val_dataloader)"
   ]
  },
  {
   "cell_type": "code",
   "execution_count": 9,
   "metadata": {},
   "outputs": [
    {
     "name": "stdout",
     "output_type": "stream",
     "text": [
      "----------------------------------------------------------------\n",
      "        Layer (type)               Output Shape         Param #\n",
      "================================================================\n",
      "            Conv2d-1           [-1, 48, 54, 54]          17,472\n",
      "              ReLU-2           [-1, 48, 54, 54]               0\n",
      "         MaxPool2d-3           [-1, 48, 27, 27]               0\n",
      "            Conv2d-4          [-1, 128, 23, 23]         153,728\n",
      "              ReLU-5          [-1, 128, 23, 23]               0\n",
      "         MaxPool2d-6          [-1, 128, 11, 11]               0\n",
      "            Conv2d-7            [-1, 192, 9, 9]         221,376\n",
      "              ReLU-8            [-1, 192, 9, 9]               0\n",
      "            Conv2d-9            [-1, 192, 7, 7]         331,968\n",
      "             ReLU-10            [-1, 192, 7, 7]               0\n",
      "           Conv2d-11            [-1, 128, 5, 5]         221,312\n",
      "             ReLU-12            [-1, 128, 5, 5]               0\n",
      "          Flatten-13                 [-1, 3200]               0\n",
      "           Linear-14                 [-1, 1024]       3,277,824\n",
      "             ReLU-15                 [-1, 1024]               0\n",
      "          Dropout-16                 [-1, 1024]               0\n",
      "           Linear-17                 [-1, 1024]       1,049,600\n",
      "             ReLU-18                 [-1, 1024]               0\n",
      "          Dropout-19                 [-1, 1024]               0\n",
      "           Linear-20                  [-1, 512]         524,800\n",
      "================================================================\n",
      "Total params: 5,798,080\n",
      "Trainable params: 5,798,080\n",
      "Non-trainable params: 0\n",
      "----------------------------------------------------------------\n",
      "Input size (MB): 0.05\n",
      "Forward/backward pass size (MB): 4.06\n",
      "Params size (MB): 22.12\n",
      "Estimated Total Size (MB): 26.22\n",
      "----------------------------------------------------------------\n"
     ]
    }
   ],
   "source": [
    "from torchsummary import summary\n",
    "summary(SpectrumCNN(), (3, 64, 64), device='cpu')"
   ]
  }
 ],
 "metadata": {
  "interpreter": {
   "hash": "187d5286943f21d9253b18f2ae7d73b9f3347e4e4fa50c2237ebd390cd54a456"
  },
  "kernelspec": {
   "display_name": "Python 3.9.7 64-bit ('pytorch_base': conda)",
   "language": "python",
   "name": "python3"
  },
  "language_info": {
   "codemirror_mode": {
    "name": "ipython",
    "version": 3
   },
   "file_extension": ".py",
   "mimetype": "text/x-python",
   "name": "python",
   "nbconvert_exporter": "python",
   "pygments_lexer": "ipython3",
   "version": "3.9.7"
  },
  "orig_nbformat": 4
 },
 "nbformat": 4,
 "nbformat_minor": 2
}
