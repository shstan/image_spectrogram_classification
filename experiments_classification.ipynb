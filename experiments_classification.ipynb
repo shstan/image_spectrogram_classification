{
 "cells": [
  {
   "cell_type": "code",
   "execution_count": 1,
   "metadata": {},
   "outputs": [],
   "source": [
    "SEED_EXPERIMENT=0"
   ]
  },
  {
   "cell_type": "code",
   "execution_count": 2,
   "metadata": {},
   "outputs": [],
   "source": [
    "import numpy as np\n",
    "import pandas as pd\n",
    "import tqdm.notebook as tqdm\n",
    "\n",
    "import torch\n",
    "from torch import nn, optim\n",
    "import torch.nn.functional as F\n",
    "from torch.utils.data import Dataset, DataLoader\n",
    "\n",
    "import torchvision\n",
    "from torchvision import models\n",
    "\n",
    "import pytorch_lightning as pl\n",
    "\n",
    "from transforms.transform import base_transform, augmented_transform, IdentityTransform\n",
    "\n",
    "from models.encoders import get_resnet18_encoder, get_shufflenetv2_encoder, get_alexnet_encoder, SpectrumCNN\n",
    "\n",
    "from models.lit_models import CNN_classifier\n",
    "import os\n",
    "import random\n",
    "\n",
    "from models.utils import load_model\n",
    "import easygui\n",
    "\n",
    "\n",
    "os.environ['PYTHONHASHSEED'] = str(SEED_EXPERIMENT)\n",
    "# Torch RNG\n",
    "torch.manual_seed(SEED_EXPERIMENT)\n",
    "torch.cuda.manual_seed(SEED_EXPERIMENT)\n",
    "torch.cuda.manual_seed_all(SEED_EXPERIMENT)\n",
    "# Python RNG\n",
    "np.random.seed(SEED_EXPERIMENT)\n",
    "random.seed(SEED_EXPERIMENT)\n",
    "\n",
    "batch_size = 64"
   ]
  },
  {
   "cell_type": "markdown",
   "metadata": {},
   "source": [
    "# 1. DATASET"
   ]
  },
  {
   "cell_type": "markdown",
   "metadata": {},
   "source": [
    "## choose dataset!"
   ]
  },
  {
   "cell_type": "code",
   "execution_count": 3,
   "metadata": {},
   "outputs": [],
   "source": [
    "train_dataset = torchvision.datasets.ImageFolder('data/images_amp_phase/train', transform=augmented_transform)\n",
    "test_dataset = torchvision.datasets.ImageFolder('data/images_amp_phase/test', transform=base_transform)"
   ]
  },
  {
   "cell_type": "code",
   "execution_count": 3,
   "metadata": {},
   "outputs": [],
   "source": [
    "train_dataset = torchvision.datasets.ImageFolder('data/images_spectrogram/train', transform=augmented_transform)\n",
    "test_dataset = torchvision.datasets.ImageFolder('data/images_spectrogram/test', transform=base_transform)"
   ]
  },
  {
   "cell_type": "markdown",
   "metadata": {},
   "source": [
    "## make dataloader"
   ]
  },
  {
   "cell_type": "code",
   "execution_count": 4,
   "metadata": {},
   "outputs": [],
   "source": [
    "train_dataloader = DataLoader(train_dataset, shuffle=True, batch_size=batch_size, num_workers=1)\n",
    "val_dataloader = DataLoader(train_dataset, shuffle=False, batch_size=batch_size, num_workers=1)"
   ]
  },
  {
   "cell_type": "markdown",
   "metadata": {},
   "source": [
    "# 2. Choose model"
   ]
  },
  {
   "cell_type": "code",
   "execution_count": 5,
   "metadata": {},
   "outputs": [],
   "source": [
    "MODEL_NAME=\"RESNET_18\"\n",
    "encoder = get_resnet18_encoder()"
   ]
  },
  {
   "cell_type": "code",
   "execution_count": 5,
   "metadata": {},
   "outputs": [],
   "source": [
    "MODEL_NAME=\"SHUFFLENET\"\n",
    "encoder = get_shufflenetv2_encoder()"
   ]
  },
  {
   "cell_type": "code",
   "execution_count": 5,
   "metadata": {},
   "outputs": [],
   "source": [
    "MODEL_NAME=\"ALEXNET\"\n",
    "encoder = get_alexnet_encoder()"
   ]
  },
  {
   "cell_type": "code",
   "execution_count": 5,
   "metadata": {},
   "outputs": [],
   "source": [
    "MODEL_NAME=\"SPECTRUM_CNN\"\n",
    "encoder=SpectrumCNN()"
   ]
  },
  {
   "cell_type": "markdown",
   "metadata": {},
   "source": [
    "### load pretrained weights (for simsiam representation)"
   ]
  },
  {
   "cell_type": "code",
   "execution_count": 6,
   "metadata": {},
   "outputs": [],
   "source": [
    "encoder, _ = load_model(save_path=easygui.fileopenbox(msg=\"Choose a model\",\n",
    "                                                      default=\"./pretrained_encoders/*.pth\"),\n",
    "                        model=encoder)"
   ]
  },
  {
   "cell_type": "markdown",
   "metadata": {},
   "source": [
    "# 3. Run classification!"
   ]
  },
  {
   "cell_type": "code",
   "execution_count": 7,
   "metadata": {},
   "outputs": [],
   "source": [
    "lit_model = CNN_classifier(encoder=encoder)"
   ]
  },
  {
   "cell_type": "code",
   "execution_count": 8,
   "metadata": {},
   "outputs": [
    {
     "data": {
      "text/plain": [
       "'data/images_spectrogram/train'"
      ]
     },
     "execution_count": 8,
     "metadata": {},
     "output_type": "execute_result"
    }
   ],
   "source": [
    "train_dataloader.dataset.root"
   ]
  },
  {
   "cell_type": "code",
   "execution_count": 9,
   "metadata": {},
   "outputs": [
    {
     "name": "stderr",
     "output_type": "stream",
     "text": [
      "GPU available: True, used: True\n",
      "TPU available: False, using: 0 TPU cores\n",
      "IPU available: False, using: 0 IPUs\n",
      "/home/shstan/anaconda3/envs/pytorch_base/lib/python3.9/site-packages/pytorch_lightning/trainer/configuration_validator.py:118: UserWarning: You defined a `validation_step` but have no `val_dataloader`. Skipping val loop.\n",
      "  rank_zero_warn(\"You defined a `validation_step` but have no `val_dataloader`. Skipping val loop.\")\n",
      "LOCAL_RANK: 0 - CUDA_VISIBLE_DEVICES: [0]\n",
      "/home/shstan/anaconda3/envs/pytorch_base/lib/python3.9/site-packages/pytorch_lightning/trainer/data_loading.py:111: UserWarning: The dataloader, train_dataloader, does not have many workers which may be a bottleneck. Consider increasing the value of the `num_workers` argument` (try 16 which is the number of cpus on this machine) in the `DataLoader` init to improve performance.\n",
      "  rank_zero_warn(\n",
      "Finding best initial lr:  86%|████████▌ | 86/100 [00:02<00:00, 31.59it/s]\n",
      "LR finder stopped early after 86 steps due to diverging loss.\n",
      "Restoring states from the checkpoint path at /mnt/0636204A36203D55/Repositories/image_spectrogram_classification/lr_find_temp_model_85c3417c-edfe-44d1-825d-c08a4a3285e9.ckpt\n"
     ]
    },
    {
     "name": "stdout",
     "output_type": "stream",
     "text": [
      "[epoch_avg_train_loss=2161911.64093]\n"
     ]
    },
    {
     "name": "stderr",
     "output_type": "stream",
     "text": [
      "/tmp/ipykernel_471024/4133287456.py:17: UserWarning: Matplotlib is currently using module://matplotlib_inline.backend_inline, which is a non-GUI backend, so cannot show the figure.\n",
      "  fig.show()\n"
     ]
    },
    {
     "name": "stdout",
     "output_type": "stream",
     "text": [
      "1.0964781961431852e-05\n"
     ]
    },
    {
     "data": {
      "image/png": "[encoded data removed]",
      "text/plain": [
       "<Figure size 432x288 with 1 Axes>"
      ]
     },
     "metadata": {
      "needs_background": "light"
     },
     "output_type": "display_data"
    }
   ],
   "source": [
    "trainer = pl.Trainer(\n",
    "    auto_lr_find=True,\n",
    "    gpus=1, max_epochs=20,\n",
    "    enable_checkpointing=True,\n",
    "    log_every_n_steps=10,\n",
    "    amp_backend=\"native\",\n",
    "    num_sanity_val_steps=0\n",
    ")\n",
    "# Run learning rate finder\n",
    "lr_finder = trainer.tuner.lr_find(lit_model, train_dataloaders=train_dataloader)\n",
    "\n",
    "# Results can be found in\n",
    "lr_finder.results\n",
    "\n",
    "# Plot with\n",
    "fig = lr_finder.plot(suggest=True)\n",
    "fig.show()\n",
    "print(lr_finder.suggestion())"
   ]
  },
  {
   "cell_type": "code",
   "execution_count": 10,
   "metadata": {},
   "outputs": [
    {
     "name": "stderr",
     "output_type": "stream",
     "text": [
      "LOCAL_RANK: 0 - CUDA_VISIBLE_DEVICES: [0]\n",
      "\n",
      "  | Name      | Type              | Params\n",
      "------------------------------------------------\n",
      "0 | encoder   | SpectrumCNN       | 5.8 M \n",
      "1 | fc        | Sequential        | 263 K \n",
      "2 | criterion | BCEWithLogitsLoss | 0     \n",
      "------------------------------------------------\n",
      "6.1 M     Trainable params\n",
      "0         Non-trainable params\n",
      "6.1 M     Total params\n",
      "24.245    Total estimated model params size (MB)\n",
      "/home/shstan/anaconda3/envs/pytorch_base/lib/python3.9/site-packages/pytorch_lightning/trainer/data_loading.py:111: UserWarning: The dataloader, train_dataloader, does not have many workers which may be a bottleneck. Consider increasing the value of the `num_workers` argument` (try 16 which is the number of cpus on this machine) in the `DataLoader` init to improve performance.\n",
      "  rank_zero_warn(\n",
      "/home/shstan/anaconda3/envs/pytorch_base/lib/python3.9/site-packages/pytorch_lightning/trainer/data_loading.py:111: UserWarning: The dataloader, val_dataloader 0, does not have many workers which may be a bottleneck. Consider increasing the value of the `num_workers` argument` (try 16 which is the number of cpus on this machine) in the `DataLoader` init to improve performance.\n",
      "  rank_zero_warn(\n"
     ]
    },
    {
     "name": "stdout",
     "output_type": "stream",
     "text": [
      "Epoch 0: 100%|█████████▉| 1437/1438 [00:43<00:00, 33.37it/s, loss=0.466, v_num=25][epoch_avg_val_loss=0.51505, VAL_ROC_AUC=0.78577, VAL_F1=0.90915, VAL_Accuracy=0.85217]\n",
      "best_stat: [epoch_avg_val_loss=0.51505(epoch:0), VAL_ROC_AUC=0.78577(epoch:0), VAL_F1=0.90915(epoch:0), VAL_Accuracy=0.85217(epoch:0)]\n",
      "Epoch 0: 100%|██████████| 1438/1438 [00:43<00:00, 33.27it/s, loss=0.466, v_num=25][epoch_avg_train_loss=17604.12002]\n",
      "Epoch 1: 100%|█████████▉| 1436/1438 [00:42<00:00, 33.45it/s, loss=0.461, v_num=25][epoch_avg_val_loss=0.55395, VAL_ROC_AUC=0.78990, VAL_F1=0.88854, VAL_Accuracy=0.82991]\n",
      "best_stat: [epoch_avg_val_loss=0.51505(epoch:0), VAL_ROC_AUC=0.78990(epoch:1), VAL_F1=0.90915(epoch:0), VAL_Accuracy=0.85217(epoch:0)]\n",
      "Epoch 1: 100%|██████████| 1438/1438 [00:43<00:00, 33.39it/s, loss=0.461, v_num=25][epoch_avg_train_loss=0.45466]\n",
      "Epoch 2: 100%|█████████▉| 1435/1438 [00:43<00:00, 33.09it/s, loss=0.444, v_num=25][epoch_avg_val_loss=0.99176, VAL_ROC_AUC=0.77715, VAL_F1=0.04255, VAL_Accuracy=0.25255]\n",
      "best_stat: [epoch_avg_val_loss=0.51505(epoch:0), VAL_ROC_AUC=0.78990(epoch:1), VAL_F1=0.90915(epoch:0), VAL_Accuracy=0.85217(epoch:0)]\n",
      "Epoch 2: 100%|██████████| 1438/1438 [00:43<00:00, 33.02it/s, loss=0.444, v_num=25][epoch_avg_train_loss=0.42962]\n",
      "Epoch 3: 100%|█████████▉| 1435/1438 [00:43<00:00, 33.17it/s, loss=0.414, v_num=25][epoch_avg_val_loss=0.45503, VAL_ROC_AUC=0.80147, VAL_F1=0.91253, VAL_Accuracy=0.85865]\n",
      "best_stat: [epoch_avg_val_loss=0.45503(epoch:3), VAL_ROC_AUC=0.80147(epoch:3), VAL_F1=0.91253(epoch:3), VAL_Accuracy=0.85865(epoch:3)]\n",
      "Epoch 3: 100%|██████████| 1438/1438 [00:43<00:00, 33.10it/s, loss=0.414, v_num=25][epoch_avg_train_loss=0.42385]\n",
      "Epoch 4: 100%|█████████▉| 1435/1438 [00:43<00:00, 32.86it/s, loss=0.42, v_num=25][epoch_avg_val_loss=0.47159, VAL_ROC_AUC=0.79426, VAL_F1=0.91282, VAL_Accuracy=0.85695]\n",
      "best_stat: [epoch_avg_val_loss=0.45503(epoch:3), VAL_ROC_AUC=0.80147(epoch:3), VAL_F1=0.91282(epoch:4), VAL_Accuracy=0.85865(epoch:3)]\n",
      "Epoch 4: 100%|██████████| 1438/1438 [00:43<00:00, 32.80it/s, loss=0.42, v_num=25][epoch_avg_train_loss=0.40027]\n",
      "Epoch 5: 100%|█████████▉| 1435/1438 [00:43<00:00, 33.14it/s, loss=0.381, v_num=25][epoch_avg_val_loss=0.39398, VAL_ROC_AUC=0.82363, VAL_F1=0.91594, VAL_Accuracy=0.86345]\n",
      "best_stat: [epoch_avg_val_loss=0.39398(epoch:5), VAL_ROC_AUC=0.82363(epoch:5), VAL_F1=0.91594(epoch:5), VAL_Accuracy=0.86345(epoch:5)]\n",
      "Epoch 5: 100%|██████████| 1438/1438 [00:43<00:00, 33.08it/s, loss=0.381, v_num=25][epoch_avg_train_loss=0.39837]\n",
      "Epoch 6: 100%|█████████▉| 1435/1438 [00:43<00:00, 32.84it/s, loss=0.557, v_num=25][epoch_avg_val_loss=0.55013, VAL_ROC_AUC=0.50000, VAL_F1=0.86421, VAL_Accuracy=0.76089]\n",
      "best_stat: [epoch_avg_val_loss=0.39398(epoch:5), VAL_ROC_AUC=0.82363(epoch:5), VAL_F1=0.91594(epoch:5), VAL_Accuracy=0.86345(epoch:5)]\n",
      "Epoch 6: 100%|██████████| 1438/1438 [00:43<00:00, 32.78it/s, loss=0.557, v_num=25][epoch_avg_train_loss=0.51483]\n",
      "Epoch 7: 100%|█████████▉| 1435/1438 [00:43<00:00, 33.21it/s, loss=0.571, v_num=25][epoch_avg_val_loss=0.55085, VAL_ROC_AUC=0.50000, VAL_F1=0.86421, VAL_Accuracy=0.76089]\n",
      "best_stat: [epoch_avg_val_loss=0.39398(epoch:5), VAL_ROC_AUC=0.82363(epoch:5), VAL_F1=0.91594(epoch:5), VAL_Accuracy=0.86345(epoch:5)]\n",
      "Epoch 7: 100%|██████████| 1438/1438 [00:43<00:00, 33.16it/s, loss=0.571, v_num=25][epoch_avg_train_loss=4.31672]\n",
      "Epoch 8: 100%|█████████▉| 1435/1438 [00:44<00:00, 32.61it/s, loss=0.548, v_num=25][epoch_avg_val_loss=0.55010, VAL_ROC_AUC=0.50000, VAL_F1=0.86421, VAL_Accuracy=0.76089]\n",
      "best_stat: [epoch_avg_val_loss=0.39398(epoch:5), VAL_ROC_AUC=0.82363(epoch:5), VAL_F1=0.91594(epoch:5), VAL_Accuracy=0.86345(epoch:5)]\n",
      "Epoch 8: 100%|██████████| 1438/1438 [00:44<00:00, 32.55it/s, loss=0.548, v_num=25][epoch_avg_train_loss=0.55262]\n",
      "Epoch 9: 100%|█████████▉| 1435/1438 [00:43<00:00, 32.87it/s, loss=0.558, v_num=25][epoch_avg_val_loss=0.55135, VAL_ROC_AUC=0.50000, VAL_F1=0.86421, VAL_Accuracy=0.76089]\n",
      "best_stat: [epoch_avg_val_loss=0.39398(epoch:5), VAL_ROC_AUC=0.82363(epoch:5), VAL_F1=0.91594(epoch:5), VAL_Accuracy=0.86345(epoch:5)]\n",
      "Epoch 9: 100%|██████████| 1438/1438 [00:43<00:00, 32.81it/s, loss=0.558, v_num=25][epoch_avg_train_loss=0.55223]\n",
      "Epoch 10: 100%|█████████▉| 1435/1438 [00:44<00:00, 32.47it/s, loss=0.575, v_num=25][epoch_avg_val_loss=0.55168, VAL_ROC_AUC=0.50000, VAL_F1=0.86421, VAL_Accuracy=0.76089]\n",
      "best_stat: [epoch_avg_val_loss=0.39398(epoch:5), VAL_ROC_AUC=0.82363(epoch:5), VAL_F1=0.91594(epoch:5), VAL_Accuracy=0.86345(epoch:5)]\n",
      "Epoch 10: 100%|██████████| 1438/1438 [00:44<00:00, 32.41it/s, loss=0.575, v_num=25][epoch_avg_train_loss=0.55139]\n",
      "Epoch 11: 100%|█████████▉| 1435/1438 [00:43<00:00, 32.61it/s, loss=0.53, v_num=25][epoch_avg_val_loss=0.55022, VAL_ROC_AUC=0.50000, VAL_F1=0.86421, VAL_Accuracy=0.76089]\n",
      "best_stat: [epoch_avg_val_loss=0.39398(epoch:5), VAL_ROC_AUC=0.82363(epoch:5), VAL_F1=0.91594(epoch:5), VAL_Accuracy=0.86345(epoch:5)]\n",
      "Epoch 11: 100%|██████████| 1438/1438 [00:44<00:00, 32.56it/s, loss=0.53, v_num=25][epoch_avg_train_loss=0.55179]\n",
      "Epoch 12: 100%|█████████▉| 1435/1438 [00:43<00:00, 32.72it/s, loss=0.538, v_num=25][epoch_avg_val_loss=0.55009, VAL_ROC_AUC=0.50000, VAL_F1=0.86421, VAL_Accuracy=0.76089]\n",
      "best_stat: [epoch_avg_val_loss=0.39398(epoch:5), VAL_ROC_AUC=0.82363(epoch:5), VAL_F1=0.91594(epoch:5), VAL_Accuracy=0.86345(epoch:5)]\n",
      "Epoch 12: 100%|██████████| 1438/1438 [00:44<00:00, 32.66it/s, loss=0.538, v_num=25][epoch_avg_train_loss=0.55143]\n",
      "Epoch 13: 100%|█████████▉| 1435/1438 [00:43<00:00, 32.79it/s, loss=0.545, v_num=25][epoch_avg_val_loss=0.54996, VAL_ROC_AUC=0.50005, VAL_F1=0.86421, VAL_Accuracy=0.76089]\n",
      "best_stat: [epoch_avg_val_loss=0.39398(epoch:5), VAL_ROC_AUC=0.82363(epoch:5), VAL_F1=0.91594(epoch:5), VAL_Accuracy=0.86345(epoch:5)]\n",
      "Epoch 13: 100%|██████████| 1438/1438 [00:43<00:00, 32.72it/s, loss=0.545, v_num=25][epoch_avg_train_loss=0.55123]\n",
      "Epoch 14: 100%|█████████▉| 1435/1438 [00:43<00:00, 33.00it/s, loss=0.555, v_num=25][epoch_avg_val_loss=0.54995, VAL_ROC_AUC=0.50000, VAL_F1=0.86421, VAL_Accuracy=0.76089]\n",
      "best_stat: [epoch_avg_val_loss=0.39398(epoch:5), VAL_ROC_AUC=0.82363(epoch:5), VAL_F1=0.91594(epoch:5), VAL_Accuracy=0.86345(epoch:5)]\n",
      "Epoch 14: 100%|██████████| 1438/1438 [00:43<00:00, 32.94it/s, loss=0.555, v_num=25][epoch_avg_train_loss=0.55129]\n",
      "Epoch 15: 100%|█████████▉| 1435/1438 [00:43<00:00, 32.69it/s, loss=0.547, v_num=25][epoch_avg_val_loss=0.55020, VAL_ROC_AUC=0.50000, VAL_F1=0.86421, VAL_Accuracy=0.76089]\n",
      "best_stat: [epoch_avg_val_loss=0.39398(epoch:5), VAL_ROC_AUC=0.82363(epoch:5), VAL_F1=0.91594(epoch:5), VAL_Accuracy=0.86345(epoch:5)]\n",
      "Epoch 15: 100%|██████████| 1438/1438 [00:44<00:00, 32.63it/s, loss=0.547, v_num=25][epoch_avg_train_loss=0.55097]\n",
      "Epoch 16: 100%|█████████▉| 1435/1438 [00:43<00:00, 32.80it/s, loss=0.573, v_num=25][epoch_avg_val_loss=0.55060, VAL_ROC_AUC=0.50000, VAL_F1=0.86421, VAL_Accuracy=0.76089]\n",
      "best_stat: [epoch_avg_val_loss=0.39398(epoch:5), VAL_ROC_AUC=0.82363(epoch:5), VAL_F1=0.91594(epoch:5), VAL_Accuracy=0.86345(epoch:5)]\n",
      "Epoch 16: 100%|██████████| 1438/1438 [00:43<00:00, 32.75it/s, loss=0.573, v_num=25][epoch_avg_train_loss=0.55097]\n",
      "Epoch 17: 100%|█████████▉| 1435/1438 [00:43<00:00, 32.87it/s, loss=0.566, v_num=25][epoch_avg_val_loss=0.55015, VAL_ROC_AUC=0.50000, VAL_F1=0.86421, VAL_Accuracy=0.76089]\n",
      "best_stat: [epoch_avg_val_loss=0.39398(epoch:5), VAL_ROC_AUC=0.82363(epoch:5), VAL_F1=0.91594(epoch:5), VAL_Accuracy=0.86345(epoch:5)]\n",
      "Epoch 17: 100%|██████████| 1438/1438 [00:43<00:00, 32.81it/s, loss=0.566, v_num=25][epoch_avg_train_loss=0.55703]\n",
      "Epoch 18: 100%|█████████▉| 1435/1438 [00:43<00:00, 32.83it/s, loss=0.555, v_num=25][epoch_avg_val_loss=0.54997, VAL_ROC_AUC=0.50000, VAL_F1=0.86421, VAL_Accuracy=0.76089]\n",
      "best_stat: [epoch_avg_val_loss=0.39398(epoch:5), VAL_ROC_AUC=0.82363(epoch:5), VAL_F1=0.91594(epoch:5), VAL_Accuracy=0.86345(epoch:5)]\n",
      "Epoch 18: 100%|██████████| 1438/1438 [00:43<00:00, 32.77it/s, loss=0.555, v_num=25][epoch_avg_train_loss=0.55076]\n",
      "Epoch 19: 100%|█████████▉| 1435/1438 [00:43<00:00, 32.81it/s, loss=0.55, v_num=25][epoch_avg_val_loss=0.54996, VAL_ROC_AUC=0.50000, VAL_F1=0.86421, VAL_Accuracy=0.76089]\n",
      "best_stat: [epoch_avg_val_loss=0.39398(epoch:5), VAL_ROC_AUC=0.82363(epoch:5), VAL_F1=0.91594(epoch:5), VAL_Accuracy=0.86345(epoch:5)]\n",
      "Epoch 19: 100%|██████████| 1438/1438 [00:43<00:00, 32.74it/s, loss=0.55, v_num=25][epoch_avg_train_loss=0.55072]\n",
      "Epoch 19: 100%|██████████| 1438/1438 [00:44<00:00, 32.53it/s, loss=0.55, v_num=25]\n"
     ]
    }
   ],
   "source": [
    "# Pick point based on plot, or get suggestion\n",
    "new_lr = lr_finder.suggestion()\n",
    "\n",
    "# update hparams of the model\n",
    "lit_model.hparams.lr = new_lr\n",
    "\n",
    "# Fit model\n",
    "trainer.fit(lit_model,\n",
    "            train_dataloaders=train_dataloader,\n",
    "            val_dataloaders=val_dataloader)"
   ]
  },
  {
   "cell_type": "markdown",
   "metadata": {},
   "source": [
    "## classification results\n",
    "- ResNet18, without pretraining(9, 10):\n",
    "    - amp(lr=0.0003019951720402019)=[epoch_avg_val_loss=0.02005(epoch:18), VAL_ROC_AUC=0.99914(epoch:18), VAL_F1=0.99661(epoch:18), VAL_Accuracy=0.99418(epoch:18)] (42m 5.3s)\n",
    "    - spec(lr=0.0002089296130854041)=[epoch_avg_val_loss=0.03713(epoch:16), VAL_ROC_AUC=0.99880(epoch:16), VAL_F1=0.99089(epoch:16), VAL_Accuracy=0.98624(epoch:16)] (61m 56.8s)\n",
    "- ResNet18, with pretraining(11, 12):\n",
    "    - amp(lr=0.00012022644346174131)=[epoch_avg_val_loss=0.01928(epoch:17), VAL_ROC_AUC=0.99927(epoch:17), VAL_F1=0.99672(epoch:18), VAL_Accuracy=0.99437(epoch:18)] (44m 17.5s)\n",
    "    - spec(lr=3.311311214825911e-05)=[epoch_avg_val_loss=0.03352(epoch:16), VAL_ROC_AUC=0.99894(epoch:16), VAL_F1=0.99151(epoch:18), VAL_Accuracy=0.98715(epoch:18)] (60m 10.5s)\n",
    "\n",
    "- ShuffleNetV2, without pretraining(13, 14):\n",
    "    - amp(lr=0.002754228703338169)=[epoch_avg_val_loss=0.01603(epoch:19), VAL_ROC_AUC=0.99947(epoch:19), VAL_F1=0.99716(epoch:18), VAL_Accuracy=0.99513(epoch:18)] (24m 18.2s)\n",
    "    - spec(lr=0.003311311214825908)=[epoch_avg_val_loss=0.03222(epoch:19), VAL_ROC_AUC=0.99901(epoch:19), VAL_F1=0.99206(epoch:16), VAL_Accuracy=0.98798(epoch:16)] (34m 1.6s)\n",
    "- ShuffleNetV2, with pretraining(15, 16):\n",
    "    - amp(lr=0.0001445439770745928)=[epoch_avg_val_loss=0.01390(epoch:18), VAL_ROC_AUC=0.99963(epoch:14), VAL_F1=0.99764(epoch:18), VAL_Accuracy=0.99596(epoch:18)] (23m 56.5s)\n",
    "    - spec(lr=4.786300923226383e-07)=[epoch_avg_val_loss=0.03254(epoch:17), VAL_ROC_AUC=0.99898(epoch:17), VAL_F1=0.99199(epoch:17), VAL_Accuracy=0.98789(epoch:17)] (33m 26.4s)\n",
    "\n",
    "- AlexNet, without pretraining(17, 20):\n",
    "    - amp(lr=8.317637711026709e-05)=[epoch_avg_val_loss=0.05086(epoch:18), VAL_ROC_AUC=0.99231(epoch:18), VAL_F1=0.99244(epoch:18), VAL_Accuracy=0.98699(epoch:18)] (19m 54.1s)\n",
    "    - spec(lr=5.7543993733715664e-05)=[epoch_avg_val_loss=0.05664(epoch:18), VAL_ROC_AUC=0.99713(epoch:19), VAL_F1=0.98683(epoch:18), VAL_Accuracy=0.98004(epoch:18)] (28m 12.8s)\n",
    "- AlexNet, with pretraining(21, N/A):\n",
    "    - amp(lr=7.585775750291837e-08)=[epoch_avg_val_loss=0.07693(epoch:17), VAL_ROC_AUC=0.98858(epoch:8), VAL_F1=0.99026(epoch:8), VAL_Accuracy=0.98319(epoch:8)] (20m 22.6s)\n",
    "    - spec(lr=1.0964781961431852e-05)= failed due to weights being incorrectly initialized by SimSiam Training(29m 5.2s) # currently running\n",
    "\n",
    "- SpectrumCNN, without pretraining(22, 23):\n",
    "    - amp(lr=0.0001445439770745928)=[epoch_avg_val_loss=0.06133(epoch:19), VAL_ROC_AUC=0.99146(epoch:13), VAL_F1=0.99076(epoch:13), VAL_Accuracy=0.98408(epoch:13)] (12m 0.9s)\n",
    "    - spec(lr=0.0007585775750291836)=[epoch_avg_val_loss=0.07264(epoch:7), VAL_ROC_AUC=0.99485(epoch:7), VAL_F1=0.98507(epoch:19), VAL_Accuracy=0.97746(epoch:19)] (15m 7.5s)\n",
    "- SpectrumCNN, with pretraining(24, 25):\n",
    "    - amp(lr=3.311311214825911e-05)=[epoch_avg_val_loss=0.16220(epoch:6), VAL_ROC_AUC=0.94823(epoch:18), VAL_F1=0.97374(epoch:6), VAL_Accuracy=0.95436(epoch:6)] (11m 57.9s)\n",
    "    - spec(lr=1.0964781961431852e-05)=[epoch_avg_val_loss=0.39398(epoch:5), VAL_ROC_AUC=0.82363(epoch:5), VAL_F1=0.91594(epoch:5), VAL_Accuracy=0.86345(epoch:5)] (14m 41.3s)\n"
   ]
  }
 ],
 "metadata": {
  "interpreter": {
   "hash": "187d5286943f21d9253b18f2ae7d73b9f3347e4e4fa50c2237ebd390cd54a456"
  },
  "kernelspec": {
   "display_name": "Python 3.9.7 64-bit ('pytorch_base': conda)",
   "language": "python",
   "name": "python3"
  },
  "language_info": {
   "codemirror_mode": {
    "name": "ipython",
    "version": 3
   },
   "file_extension": ".py",
   "mimetype": "text/x-python",
   "name": "python",
   "nbconvert_exporter": "python",
   "pygments_lexer": "ipython3",
   "version": "3.9.7"
  },
  "orig_nbformat": 4
 },
 "nbformat": 4,
 "nbformat_minor": 2
}
