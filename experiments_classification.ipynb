{
 "cells": [
  {
   "cell_type": "code",
   "execution_count": 1,
   "metadata": {},
   "outputs": [],
   "source": [
    "SEED_EXPERIMENT=0"
   ]
  },
  {
   "cell_type": "code",
   "execution_count": 2,
   "metadata": {},
   "outputs": [],
   "source": [
    "import numpy as np\n",
    "import pandas as pd\n",
    "import tqdm.notebook as tqdm\n",
    "\n",
    "import torch\n",
    "from torch import nn, optim\n",
    "import torch.nn.functional as F\n",
    "from torch.utils.data import Dataset, DataLoader\n",
    "\n",
    "import torchvision\n",
    "from torchvision import models\n",
    "\n",
    "import pytorch_lightning as pl\n",
    "\n",
    "from transforms.transform import base_transform, augmented_transform, IdentityTransform\n",
    "\n",
    "from models.encoders import get_resnet18_encoder, get_shufflenetv2_encoder, get_alexnet_encoder, SpectrumCNN\n",
    "\n",
    "from models.lit_models import CNN_classifier\n",
    "import os\n",
    "import random\n",
    "\n",
    "from models.utils import load_model\n",
    "import easygui\n",
    "\n",
    "\n",
    "os.environ['PYTHONHASHSEED'] = str(SEED_EXPERIMENT)\n",
    "# Torch RNG\n",
    "torch.manual_seed(SEED_EXPERIMENT)\n",
    "torch.cuda.manual_seed(SEED_EXPERIMENT)\n",
    "torch.cuda.manual_seed_all(SEED_EXPERIMENT)\n",
    "# Python RNG\n",
    "np.random.seed(SEED_EXPERIMENT)\n",
    "random.seed(SEED_EXPERIMENT)\n",
    "\n",
    "batch_size = 64"
   ]
  },
  {
   "cell_type": "markdown",
   "metadata": {},
   "source": [
    "# 1. DATASET"
   ]
  },
  {
   "cell_type": "markdown",
   "metadata": {},
   "source": [
    "## choose dataset!"
   ]
  },
  {
   "cell_type": "code",
   "execution_count": 3,
   "metadata": {},
   "outputs": [],
   "source": [
    "train_dataset = torchvision.datasets.ImageFolder('data/images_amp_phase/train', transform=augmented_transform)\n",
    "test_dataset = torchvision.datasets.ImageFolder('data/images_amp_phase/test', transform=base_transform)"
   ]
  },
  {
   "cell_type": "code",
   "execution_count": 3,
   "metadata": {},
   "outputs": [],
   "source": [
    "train_dataset = torchvision.datasets.ImageFolder('data/images_spectrogram/train', transform=augmented_transform)\n",
    "test_dataset = torchvision.datasets.ImageFolder('data/images_spectrogram/test', transform=base_transform)"
   ]
  },
  {
   "cell_type": "markdown",
   "metadata": {},
   "source": [
    "## make dataloader"
   ]
  },
  {
   "cell_type": "code",
   "execution_count": 4,
   "metadata": {},
   "outputs": [],
   "source": [
    "train_dataloader = DataLoader(train_dataset, shuffle=True, batch_size=batch_size, num_workers=1)\n",
    "val_dataloader = DataLoader(train_dataset, shuffle=False, batch_size=batch_size, num_workers=1)"
   ]
  },
  {
   "cell_type": "markdown",
   "metadata": {},
   "source": [
    "# 2. Choose model"
   ]
  },
  {
   "cell_type": "code",
   "execution_count": 5,
   "metadata": {},
   "outputs": [],
   "source": [
    "MODEL_NAME=\"RESNET_18\"\n",
    "encoder = get_resnet18_encoder()"
   ]
  },
  {
   "cell_type": "code",
   "execution_count": 5,
   "metadata": {},
   "outputs": [],
   "source": [
    "MODEL_NAME=\"SHUFFLENET\"\n",
    "encoder = get_shufflenetv2_encoder()"
   ]
  },
  {
   "cell_type": "code",
   "execution_count": 5,
   "metadata": {},
   "outputs": [],
   "source": [
    "MODEL_NAME=\"ALEXNET\"\n",
    "encoder = get_alexnet_encoder()"
   ]
  },
  {
   "cell_type": "code",
   "execution_count": null,
   "metadata": {},
   "outputs": [],
   "source": [
    "MODEL_NAME=\"SPECTRUM_CNN\"\n",
    "encoder=SpectrumCNN()"
   ]
  },
  {
   "cell_type": "markdown",
   "metadata": {},
   "source": [
    "### load pretrained weights (for simsiam representation)"
   ]
  },
  {
   "cell_type": "code",
   "execution_count": 6,
   "metadata": {},
   "outputs": [],
   "source": [
    "encoder, _ = load_model(save_path=easygui.fileopenbox(msg=\"Choose a model\",\n",
    "                                                      default=\"./pretrained_encoders/*.pth\"),\n",
    "                        model=encoder)"
   ]
  },
  {
   "cell_type": "markdown",
   "metadata": {},
   "source": [
    "# 3. Run classification!"
   ]
  },
  {
   "cell_type": "code",
   "execution_count": 7,
   "metadata": {},
   "outputs": [],
   "source": [
    "lit_model = CNN_classifier(encoder=encoder)"
   ]
  },
  {
   "cell_type": "code",
   "execution_count": 12,
   "metadata": {},
   "outputs": [
    {
     "data": {
      "text/plain": [
       "'data/images_spectrogram/train'"
      ]
     },
     "execution_count": 12,
     "metadata": {},
     "output_type": "execute_result"
    }
   ],
   "source": [
    "train_dataloader.dataset.root"
   ]
  },
  {
   "cell_type": "code",
   "execution_count": 8,
   "metadata": {},
   "outputs": [
    {
     "name": "stderr",
     "output_type": "stream",
     "text": [
      "GPU available: True, used: True\n",
      "TPU available: False, using: 0 TPU cores\n",
      "IPU available: False, using: 0 IPUs\n",
      "/home/shstan/anaconda3/envs/pytorch_base/lib/python3.9/site-packages/pytorch_lightning/trainer/configuration_validator.py:118: UserWarning: You defined a `validation_step` but have no `val_dataloader`. Skipping val loop.\n",
      "  rank_zero_warn(\"You defined a `validation_step` but have no `val_dataloader`. Skipping val loop.\")\n",
      "LOCAL_RANK: 0 - CUDA_VISIBLE_DEVICES: [0]\n",
      "/home/shstan/anaconda3/envs/pytorch_base/lib/python3.9/site-packages/pytorch_lightning/trainer/data_loading.py:111: UserWarning: The dataloader, train_dataloader, does not have many workers which may be a bottleneck. Consider increasing the value of the `num_workers` argument` (try 16 which is the number of cpus on this machine) in the `DataLoader` init to improve performance.\n",
      "  rank_zero_warn(\n",
      "Finding best initial lr:  90%|█████████ | 90/100 [00:08<00:00, 10.49it/s]\n"
     ]
    },
    {
     "name": "stdout",
     "output_type": "stream",
     "text": [
      "[epoch_avg_train_loss=86467399732.22395]\n"
     ]
    },
    {
     "name": "stderr",
     "output_type": "stream",
     "text": [
      "LR finder stopped early after 90 steps due to diverging loss.\n",
      "Restoring states from the checkpoint path at /mnt/0636204A36203D55/Repositories/image_spectrogram_classification/lr_find_temp_model_4c82a9a4-e103-43cc-abcd-b9140b721a3f.ckpt\n",
      "/tmp/ipykernel_434918/4133287456.py:17: UserWarning: Matplotlib is currently using module://matplotlib_inline.backend_inline, which is a non-GUI backend, so cannot show the figure.\n",
      "  fig.show()\n"
     ]
    },
    {
     "name": "stdout",
     "output_type": "stream",
     "text": [
      "0.09120108393559097\n"
     ]
    },
    {
     "data": {
      "image/png": "[encoded data removed]",
      "text/plain": [
       "<Figure size 432x288 with 1 Axes>"
      ]
     },
     "metadata": {
      "needs_background": "light"
     },
     "output_type": "display_data"
    }
   ],
   "source": [
    "trainer = pl.Trainer(\n",
    "    auto_lr_find=True,\n",
    "    gpus=1, max_epochs=20,\n",
    "    enable_checkpointing=True,\n",
    "    log_every_n_steps=10,\n",
    "    amp_backend=\"native\",\n",
    "    num_sanity_val_steps=0\n",
    ")\n",
    "# Run learning rate finder\n",
    "lr_finder = trainer.tuner.lr_find(lit_model, train_dataloaders=train_dataloader)\n",
    "\n",
    "# Results can be found in\n",
    "lr_finder.results\n",
    "\n",
    "# Plot with\n",
    "fig = lr_finder.plot(suggest=True)\n",
    "fig.show()\n",
    "print(lr_finder.suggestion())"
   ]
  },
  {
   "cell_type": "code",
   "execution_count": 9,
   "metadata": {},
   "outputs": [
    {
     "name": "stderr",
     "output_type": "stream",
     "text": [
      "LOCAL_RANK: 0 - CUDA_VISIBLE_DEVICES: [0]\n",
      "\n",
      "  | Name      | Type              | Params\n",
      "------------------------------------------------\n",
      "0 | encoder   | Sequential        | 59.1 M\n",
      "1 | fc        | Sequential        | 263 K \n",
      "2 | criterion | BCEWithLogitsLoss | 0     \n",
      "------------------------------------------------\n",
      "59.4 M    Trainable params\n",
      "0         Non-trainable params\n",
      "59.4 M    Total params\n",
      "237.459   Total estimated model params size (MB)\n",
      "/home/shstan/anaconda3/envs/pytorch_base/lib/python3.9/site-packages/pytorch_lightning/trainer/data_loading.py:111: UserWarning: The dataloader, train_dataloader, does not have many workers which may be a bottleneck. Consider increasing the value of the `num_workers` argument` (try 16 which is the number of cpus on this machine) in the `DataLoader` init to improve performance.\n",
      "  rank_zero_warn(\n",
      "/home/shstan/anaconda3/envs/pytorch_base/lib/python3.9/site-packages/pytorch_lightning/trainer/data_loading.py:111: UserWarning: The dataloader, val_dataloader 0, does not have many workers which may be a bottleneck. Consider increasing the value of the `num_workers` argument` (try 16 which is the number of cpus on this machine) in the `DataLoader` init to improve performance.\n",
      "  rank_zero_warn(\n"
     ]
    },
    {
     "name": "stdout",
     "output_type": "stream",
     "text": [
      "Epoch 0: 100%|█████████▉| 1021/1022 [00:59<00:00, 17.25it/s, loss=0.189, v_num=21][epoch_avg_val_loss=0.14919, VAL_ROC_AUC=0.95538, VAL_F1=0.97202, VAL_Accuracy=0.95127]\n",
      "best_stat: [epoch_avg_val_loss=0.14919(epoch:0), VAL_ROC_AUC=0.95538(epoch:0), VAL_F1=0.97202(epoch:0), VAL_Accuracy=0.95127(epoch:0)]\n",
      "Epoch 0: 100%|██████████| 1022/1022 [00:59<00:00, 17.24it/s, loss=0.189, v_num=21][epoch_avg_train_loss=140.75465]\n",
      "Epoch 1: 100%|█████████▉| 1020/1022 [00:57<00:00, 17.84it/s, loss=0.31, v_num=21][epoch_avg_val_loss=0.21710, VAL_ROC_AUC=0.96069, VAL_F1=0.92963, VAL_Accuracy=0.87024]\n",
      "best_stat: [epoch_avg_val_loss=0.14919(epoch:0), VAL_ROC_AUC=0.96069(epoch:1), VAL_F1=0.97202(epoch:0), VAL_Accuracy=0.95127(epoch:0)]\n",
      "Epoch 1: 100%|██████████| 1022/1022 [00:57<00:00, 17.83it/s, loss=0.31, v_num=21][epoch_avg_train_loss=0.15446]\n",
      "Epoch 2: 100%|█████████▉| 1020/1022 [00:57<00:00, 17.80it/s, loss=0.104, v_num=21][epoch_avg_val_loss=0.12826, VAL_ROC_AUC=0.97861, VAL_F1=0.97810, VAL_Accuracy=0.96278]\n",
      "best_stat: [epoch_avg_val_loss=0.12826(epoch:2), VAL_ROC_AUC=0.97861(epoch:2), VAL_F1=0.97810(epoch:2), VAL_Accuracy=0.96278(epoch:2)]\n",
      "Epoch 2: 100%|██████████| 1022/1022 [00:57<00:00, 17.80it/s, loss=0.104, v_num=21][epoch_avg_train_loss=0.13365]\n",
      "Epoch 3: 100%|█████████▉| 1020/1022 [00:57<00:00, 17.77it/s, loss=0.151, v_num=21][epoch_avg_val_loss=0.10867, VAL_ROC_AUC=0.97743, VAL_F1=0.97984, VAL_Accuracy=0.96498]\n",
      "best_stat: [epoch_avg_val_loss=0.10867(epoch:3), VAL_ROC_AUC=0.97861(epoch:2), VAL_F1=0.97984(epoch:3), VAL_Accuracy=0.96498(epoch:3)]\n",
      "Epoch 3: 100%|██████████| 1022/1022 [00:57<00:00, 17.77it/s, loss=0.151, v_num=21][epoch_avg_train_loss=0.11388]\n",
      "Epoch 4: 100%|█████████▉| 1020/1022 [00:57<00:00, 17.82it/s, loss=0.111, v_num=21][epoch_avg_val_loss=0.09554, VAL_ROC_AUC=0.97822, VAL_F1=0.98406, VAL_Accuracy=0.97242]\n",
      "best_stat: [epoch_avg_val_loss=0.09554(epoch:4), VAL_ROC_AUC=0.97861(epoch:2), VAL_F1=0.98406(epoch:4), VAL_Accuracy=0.97242(epoch:4)]\n",
      "Epoch 4: 100%|██████████| 1022/1022 [00:57<00:00, 17.81it/s, loss=0.111, v_num=21][epoch_avg_train_loss=0.11102]\n",
      "Epoch 5: 100%|█████████▉| 1020/1022 [00:57<00:00, 17.74it/s, loss=0.145, v_num=21][epoch_avg_val_loss=0.11272, VAL_ROC_AUC=0.97658, VAL_F1=0.97969, VAL_Accuracy=0.96470]\n",
      "best_stat: [epoch_avg_val_loss=0.09554(epoch:4), VAL_ROC_AUC=0.97861(epoch:2), VAL_F1=0.98406(epoch:4), VAL_Accuracy=0.97242(epoch:4)]\n",
      "Epoch 5: 100%|██████████| 1022/1022 [00:57<00:00, 17.74it/s, loss=0.145, v_num=21][epoch_avg_train_loss=0.10965]\n",
      "Epoch 6: 100%|█████████▉| 1020/1022 [00:57<00:00, 17.81it/s, loss=0.0568, v_num=21][epoch_avg_val_loss=0.09752, VAL_ROC_AUC=0.98576, VAL_F1=0.98757, VAL_Accuracy=0.97866]\n",
      "best_stat: [epoch_avg_val_loss=0.09554(epoch:4), VAL_ROC_AUC=0.98576(epoch:6), VAL_F1=0.98757(epoch:6), VAL_Accuracy=0.97866(epoch:6)]\n",
      "Epoch 6: 100%|██████████| 1022/1022 [00:57<00:00, 17.80it/s, loss=0.0568, v_num=21][epoch_avg_train_loss=0.09385]\n",
      "Epoch 7: 100%|█████████▉| 1020/1022 [00:57<00:00, 17.74it/s, loss=0.0828, v_num=21][epoch_avg_val_loss=0.07711, VAL_ROC_AUC=0.98755, VAL_F1=0.98880, VAL_Accuracy=0.98068]\n",
      "best_stat: [epoch_avg_val_loss=0.07711(epoch:7), VAL_ROC_AUC=0.98755(epoch:7), VAL_F1=0.98880(epoch:7), VAL_Accuracy=0.98068(epoch:7)]\n",
      "Epoch 7: 100%|██████████| 1022/1022 [00:57<00:00, 17.73it/s, loss=0.0828, v_num=21][epoch_avg_train_loss=0.08893]\n",
      "Epoch 8: 100%|█████████▉| 1020/1022 [00:57<00:00, 17.81it/s, loss=0.0762, v_num=21][epoch_avg_val_loss=0.11473, VAL_ROC_AUC=0.98858, VAL_F1=0.99026, VAL_Accuracy=0.98319]\n",
      "best_stat: [epoch_avg_val_loss=0.07711(epoch:7), VAL_ROC_AUC=0.98858(epoch:8), VAL_F1=0.99026(epoch:8), VAL_Accuracy=0.98319(epoch:8)]\n",
      "Epoch 8: 100%|██████████| 1022/1022 [00:57<00:00, 17.80it/s, loss=0.0762, v_num=21][epoch_avg_train_loss=0.07831]\n",
      "Epoch 9: 100%|█████████▉| 1020/1022 [00:57<00:00, 17.70it/s, loss=0.111, v_num=21][epoch_avg_val_loss=0.10995, VAL_ROC_AUC=0.97071, VAL_F1=0.98015, VAL_Accuracy=0.96544]\n",
      "best_stat: [epoch_avg_val_loss=0.07711(epoch:7), VAL_ROC_AUC=0.98858(epoch:8), VAL_F1=0.99026(epoch:8), VAL_Accuracy=0.98319(epoch:8)]\n",
      "Epoch 9: 100%|██████████| 1022/1022 [00:57<00:00, 17.70it/s, loss=0.111, v_num=21][epoch_avg_train_loss=0.24006]\n",
      "Epoch 10: 100%|█████████▉| 1020/1022 [00:57<00:00, 17.61it/s, loss=0.185, v_num=21][epoch_avg_val_loss=0.14582, VAL_ROC_AUC=0.96657, VAL_F1=0.97378, VAL_Accuracy=0.95485]\n",
      "best_stat: [epoch_avg_val_loss=0.07711(epoch:7), VAL_ROC_AUC=0.98858(epoch:8), VAL_F1=0.99026(epoch:8), VAL_Accuracy=0.98319(epoch:8)]\n",
      "Epoch 10: 100%|██████████| 1022/1022 [00:58<00:00, 17.61it/s, loss=0.185, v_num=21][epoch_avg_train_loss=0.26419]\n",
      "Epoch 11: 100%|█████████▉| 1020/1022 [00:59<00:00, 17.22it/s, loss=0.257, v_num=21][epoch_avg_val_loss=0.22347, VAL_ROC_AUC=0.95016, VAL_F1=0.96263, VAL_Accuracy=0.93382]\n",
      "best_stat: [epoch_avg_val_loss=0.07711(epoch:7), VAL_ROC_AUC=0.98858(epoch:8), VAL_F1=0.99026(epoch:8), VAL_Accuracy=0.98319(epoch:8)]\n",
      "Epoch 11: 100%|██████████| 1022/1022 [00:59<00:00, 17.22it/s, loss=0.257, v_num=21][epoch_avg_train_loss=0.19436]\n",
      "Epoch 12: 100%|█████████▉| 1020/1022 [00:59<00:00, 17.06it/s, loss=0.101, v_num=21][epoch_avg_val_loss=0.11769, VAL_ROC_AUC=0.97258, VAL_F1=0.98130, VAL_Accuracy=0.96801]\n",
      "best_stat: [epoch_avg_val_loss=0.07711(epoch:7), VAL_ROC_AUC=0.98858(epoch:8), VAL_F1=0.99026(epoch:8), VAL_Accuracy=0.98319(epoch:8)]\n",
      "Epoch 12: 100%|██████████| 1022/1022 [00:59<00:00, 17.05it/s, loss=0.101, v_num=21][epoch_avg_train_loss=0.13872]\n",
      "Epoch 13: 100%|█████████▉| 1020/1022 [00:59<00:00, 17.18it/s, loss=0.104, v_num=21][epoch_avg_val_loss=0.08974, VAL_ROC_AUC=0.97459, VAL_F1=0.98652, VAL_Accuracy=0.97677]\n",
      "best_stat: [epoch_avg_val_loss=0.07711(epoch:7), VAL_ROC_AUC=0.98858(epoch:8), VAL_F1=0.99026(epoch:8), VAL_Accuracy=0.98319(epoch:8)]\n",
      "Epoch 13: 100%|██████████| 1022/1022 [00:59<00:00, 17.17it/s, loss=0.104, v_num=21][epoch_avg_train_loss=0.11019]\n",
      "Epoch 14: 100%|█████████▉| 1020/1022 [00:59<00:00, 17.21it/s, loss=0.114, v_num=21][epoch_avg_val_loss=0.08870, VAL_ROC_AUC=0.97844, VAL_F1=0.98682, VAL_Accuracy=0.97729]\n",
      "best_stat: [epoch_avg_val_loss=0.07711(epoch:7), VAL_ROC_AUC=0.98858(epoch:8), VAL_F1=0.99026(epoch:8), VAL_Accuracy=0.98319(epoch:8)]\n",
      "Epoch 14: 100%|██████████| 1022/1022 [00:59<00:00, 17.20it/s, loss=0.114, v_num=21][epoch_avg_train_loss=0.10129]\n",
      "Epoch 15: 100%|█████████▉| 1020/1022 [00:59<00:00, 17.19it/s, loss=0.103, v_num=21][epoch_avg_val_loss=0.08636, VAL_ROC_AUC=0.98134, VAL_F1=0.98726, VAL_Accuracy=0.97808]\n",
      "best_stat: [epoch_avg_val_loss=0.07711(epoch:7), VAL_ROC_AUC=0.98858(epoch:8), VAL_F1=0.99026(epoch:8), VAL_Accuracy=0.98319(epoch:8)]\n",
      "Epoch 15: 100%|██████████| 1022/1022 [00:59<00:00, 17.18it/s, loss=0.103, v_num=21][epoch_avg_train_loss=0.09888]\n",
      "Epoch 16: 100%|█████████▉| 1020/1022 [00:59<00:00, 17.14it/s, loss=0.0667, v_num=21][epoch_avg_val_loss=0.07909, VAL_ROC_AUC=0.98170, VAL_F1=0.98761, VAL_Accuracy=0.97863]\n",
      "best_stat: [epoch_avg_val_loss=0.07711(epoch:7), VAL_ROC_AUC=0.98858(epoch:8), VAL_F1=0.99026(epoch:8), VAL_Accuracy=0.98319(epoch:8)]\n",
      "Epoch 16: 100%|██████████| 1022/1022 [00:59<00:00, 17.13it/s, loss=0.0667, v_num=21][epoch_avg_train_loss=0.08822]\n",
      "Epoch 17: 100%|█████████▉| 1020/1022 [00:59<00:00, 17.23it/s, loss=0.0872, v_num=21][epoch_avg_val_loss=0.07693, VAL_ROC_AUC=0.98422, VAL_F1=0.98776, VAL_Accuracy=0.97900]\n",
      "best_stat: [epoch_avg_val_loss=0.07693(epoch:17), VAL_ROC_AUC=0.98858(epoch:8), VAL_F1=0.99026(epoch:8), VAL_Accuracy=0.98319(epoch:8)]\n",
      "Epoch 17: 100%|██████████| 1022/1022 [00:59<00:00, 17.22it/s, loss=0.0872, v_num=21][epoch_avg_train_loss=0.08815]\n",
      "Epoch 18: 100%|█████████▉| 1020/1022 [00:59<00:00, 17.24it/s, loss=0.192, v_num=21][epoch_avg_val_loss=0.17656, VAL_ROC_AUC=0.95816, VAL_F1=0.97342, VAL_Accuracy=0.95387]\n",
      "best_stat: [epoch_avg_val_loss=0.07693(epoch:17), VAL_ROC_AUC=0.98858(epoch:8), VAL_F1=0.99026(epoch:8), VAL_Accuracy=0.98319(epoch:8)]\n",
      "Epoch 18: 100%|██████████| 1022/1022 [00:59<00:00, 17.23it/s, loss=0.192, v_num=21][epoch_avg_train_loss=0.28333]\n",
      "Epoch 19: 100%|█████████▉| 1020/1022 [00:58<00:00, 17.29it/s, loss=0.147, v_num=21][epoch_avg_val_loss=0.13026, VAL_ROC_AUC=0.96672, VAL_F1=0.98183, VAL_Accuracy=0.96862]\n",
      "best_stat: [epoch_avg_val_loss=0.07693(epoch:17), VAL_ROC_AUC=0.98858(epoch:8), VAL_F1=0.99026(epoch:8), VAL_Accuracy=0.98319(epoch:8)]\n",
      "Epoch 19: 100%|██████████| 1022/1022 [00:59<00:00, 17.29it/s, loss=0.147, v_num=21][epoch_avg_train_loss=0.16262]\n",
      "Epoch 19: 100%|██████████| 1022/1022 [01:01<00:00, 16.58it/s, loss=0.147, v_num=21]\n"
     ]
    }
   ],
   "source": [
    "# Pick point based on plot, or get suggestion\n",
    "new_lr = lr_finder.suggestion()\n",
    "\n",
    "# update hparams of the model\n",
    "lit_model.hparams.lr = new_lr\n",
    "\n",
    "# Fit model\n",
    "trainer.fit(lit_model,\n",
    "            train_dataloaders=train_dataloader,\n",
    "            val_dataloaders=val_dataloader)"
   ]
  },
  {
   "cell_type": "markdown",
   "metadata": {},
   "source": [
    "## classification results\n",
    "- ResNet18, without pretraining(9, 10):\n",
    "    - amp(lr=0.0003019951720402019)=[epoch_avg_val_loss=0.02005(epoch:18), VAL_ROC_AUC=0.99914(epoch:18), VAL_F1=0.99661(epoch:18), VAL_Accuracy=0.99418(epoch:18)] (42m 5.3s)\n",
    "    - spec(lr=0.0002089296130854041)=[epoch_avg_val_loss=0.03713(epoch:16), VAL_ROC_AUC=0.99880(epoch:16), VAL_F1=0.99089(epoch:16), VAL_Accuracy=0.98624(epoch:16)] (61m 56.8s)\n",
    "- ResNet18, with pretraining(11, 12):\n",
    "    - amp(lr=0.00012022644346174131)=[epoch_avg_val_loss=0.01928(epoch:17), VAL_ROC_AUC=0.99927(epoch:17), VAL_F1=0.99672(epoch:18), VAL_Accuracy=0.99437(epoch:18)] (44m 17.5s)\n",
    "    - spec(lr=3.311311214825911e-05)=[epoch_avg_val_loss=0.03352(epoch:16), VAL_ROC_AUC=0.99894(epoch:16), VAL_F1=0.99151(epoch:18), VAL_Accuracy=0.98715(epoch:18)] (60m 10.5s)\n",
    "\n",
    "- ShuffleNetV2, without pretraining(13, 14):\n",
    "    - amp(lr=0.002754228703338169)=[epoch_avg_val_loss=0.01603(epoch:19), VAL_ROC_AUC=0.99947(epoch:19), VAL_F1=0.99716(epoch:18), VAL_Accuracy=0.99513(epoch:18)] (24m 18.2s)\n",
    "    - spec(lr=0.003311311214825908)=[epoch_avg_val_loss=0.03222(epoch:19), VAL_ROC_AUC=0.99901(epoch:19), VAL_F1=0.99206(epoch:16), VAL_Accuracy=0.98798(epoch:16)] (34m 1.6s)\n",
    "- ShuffleNetV2, with pretraining(15, 16):\n",
    "    - amp(lr=0.0001445439770745928)=[epoch_avg_val_loss=0.01390(epoch:18), VAL_ROC_AUC=0.99963(epoch:14), VAL_F1=0.99764(epoch:18), VAL_Accuracy=0.99596(epoch:18)] (23m 56.5s)\n",
    "    - spec(lr=4.786300923226383e-07)=[epoch_avg_val_loss=0.03254(epoch:17), VAL_ROC_AUC=0.99898(epoch:17), VAL_F1=0.99199(epoch:17), VAL_Accuracy=0.98789(epoch:17)] (33m 26.4s)\n",
    "\n",
    "- AlexNet, without pretraining(17, 20):\n",
    "    - amp(lr=8.317637711026709e-05)=[epoch_avg_val_loss=0.05086(epoch:18), VAL_ROC_AUC=0.99231(epoch:18), VAL_F1=0.99244(epoch:18), VAL_Accuracy=0.98699(epoch:18)] (19m 54.1s)\n",
    "    - spec(lr=5.7543993733715664e-05)=[epoch_avg_val_loss=0.05664(epoch:18), VAL_ROC_AUC=0.99713(epoch:19), VAL_F1=0.98683(epoch:18), VAL_Accuracy=0.98004(epoch:18)] (28m 12.8s)\n",
    "- AlexNet, with pretraining(19, 20):\n",
    "    - amp(lr=7.585775750291837e-08)=[epoch_avg_val_loss=0.07693(epoch:17), VAL_ROC_AUC=0.98858(epoch:8), VAL_F1=0.99026(epoch:8), VAL_Accuracy=0.98319(epoch:8)] (14m 17.5s)\n",
    "    - spec(lr=0.09120108393559097)=[epoch_avg_val_loss=0.07693(epoch:17), VAL_ROC_AUC=0.98858(epoch:8), VAL_F1=0.99026(epoch:8), VAL_Accuracy=0.98319(epoch:8)] (20m 22.6s) # currently running"
   ]
  },
  {
   "cell_type": "markdown",
   "metadata": {},
   "source": [
    "# 2. SPECTROGRAM DATASET"
   ]
  },
  {
   "cell_type": "code",
   "execution_count": 2,
   "metadata": {},
   "outputs": [],
   "source": [
    "train_dataset_spectrogram = torchvision.datasets.ImageFolder('data/images_spectrogram/train', transform=augmented_transform)\n",
    "test_dataset_spectrogram = torchvision.datasets.ImageFolder('data/images_spectrogram/test', transform=base_transform)"
   ]
  },
  {
   "cell_type": "code",
   "execution_count": 3,
   "metadata": {},
   "outputs": [],
   "source": [
    "train_dataloader = DataLoader(train_dataset_spectrogram, shuffle=True, batch_size=batch_size, num_workers=1)\n",
    "val_dataloader = DataLoader(test_dataset_spectrogram, shuffle=False, batch_size=batch_size, num_workers=1)"
   ]
  },
  {
   "cell_type": "code",
   "execution_count": 4,
   "metadata": {},
   "outputs": [
    {
     "name": "stderr",
     "output_type": "stream",
     "text": [
      "GPU available: True, used: True\n",
      "TPU available: False, using: 0 TPU cores\n",
      "IPU available: False, using: 0 IPUs\n",
      "/home/shstan/anaconda3/envs/pytorch_base/lib/python3.9/site-packages/pytorch_lightning/trainer/configuration_validator.py:118: UserWarning: You defined a `validation_step` but have no `val_dataloader`. Skipping val loop.\n",
      "  rank_zero_warn(\"You defined a `validation_step` but have no `val_dataloader`. Skipping val loop.\")\n",
      "LOCAL_RANK: 0 - CUDA_VISIBLE_DEVICES: [0]\n",
      "/home/shstan/anaconda3/envs/pytorch_base/lib/python3.9/site-packages/pytorch_lightning/trainer/data_loading.py:111: UserWarning: The dataloader, train_dataloader, does not have many workers which may be a bottleneck. Consider increasing the value of the `num_workers` argument` (try 16 which is the number of cpus on this machine) in the `DataLoader` init to improve performance.\n",
      "  rank_zero_warn(\n",
      "Finding best initial lr:  79%|███████▉  | 79/100 [00:02<00:00, 32.63it/s]\n",
      "LR finder stopped early after 79 steps due to diverging loss.\n",
      "Restoring states from the checkpoint path at /mnt/0636204A36203D55/Repositories/image_spectrogram_classification/lr_find_temp_model_a822f61e-bc64-4c78-986c-9f223e3c9d75.ckpt\n"
     ]
    },
    {
     "name": "stdout",
     "output_type": "stream",
     "text": [
      "[epoch_avg_train_loss=9.51853]\n"
     ]
    },
    {
     "name": "stderr",
     "output_type": "stream",
     "text": [
      "/tmp/ipykernel_131410/1939121371.py:25: UserWarning: Matplotlib is currently using module://matplotlib_inline.backend_inline, which is a non-GUI backend, so cannot show the figure.\n",
      "  fig.show()\n",
      "LOCAL_RANK: 0 - CUDA_VISIBLE_DEVICES: [0]\n",
      "\n",
      "  | Name      | Type              | Params\n",
      "------------------------------------------------\n",
      "0 | encoder   | SpectrumCNN       | 5.8 M \n",
      "1 | fc        | Sequential        | 263 K \n",
      "2 | criterion | BCEWithLogitsLoss | 0     \n",
      "------------------------------------------------\n",
      "6.1 M     Trainable params\n",
      "0         Non-trainable params\n",
      "6.1 M     Total params\n",
      "24.245    Total estimated model params size (MB)\n",
      "/home/shstan/anaconda3/envs/pytorch_base/lib/python3.9/site-packages/pytorch_lightning/trainer/data_loading.py:111: UserWarning: The dataloader, train_dataloader, does not have many workers which may be a bottleneck. Consider increasing the value of the `num_workers` argument` (try 16 which is the number of cpus on this machine) in the `DataLoader` init to improve performance.\n",
      "  rank_zero_warn(\n",
      "/home/shstan/anaconda3/envs/pytorch_base/lib/python3.9/site-packages/pytorch_lightning/trainer/data_loading.py:111: UserWarning: The dataloader, val_dataloader 0, does not have many workers which may be a bottleneck. Consider increasing the value of the `num_workers` argument` (try 16 which is the number of cpus on this machine) in the `DataLoader` init to improve performance.\n",
      "  rank_zero_warn(\n"
     ]
    },
    {
     "name": "stdout",
     "output_type": "stream",
     "text": [
      "0.001584893192461114\n",
      "Epoch 0:  99%|█████████▉| 588/593 [00:17<00:00, 33.66it/s, loss=0.114, v_num=7][epoch_avg_val_loss=0.04639, VAL_ROC_AUC=0.99871, VAL_F1=0.99373, VAL_Accuracy=0.98885]\n",
      "best_stat: [epoch_avg_val_loss=0.04639(epoch:0), VAL_ROC_AUC=0.99871(epoch:0), VAL_F1=0.99373(epoch:0), VAL_Accuracy=0.98885(epoch:0)]\n",
      "Epoch 0: 100%|██████████| 593/593 [00:17<00:00, 33.68it/s, loss=0.114, v_num=7][epoch_avg_train_loss=0.16601]\n",
      "Epoch 1:  99%|█████████▉| 590/593 [00:17<00:00, 33.36it/s, loss=0.109, v_num=7][epoch_avg_val_loss=0.04657, VAL_ROC_AUC=0.99792, VAL_F1=0.99123, VAL_Accuracy=0.98444]\n",
      "best_stat: [epoch_avg_val_loss=0.04639(epoch:0), VAL_ROC_AUC=0.99871(epoch:0), VAL_F1=0.99373(epoch:0), VAL_Accuracy=0.98885(epoch:0)]\n",
      "Epoch 1: 100%|██████████| 593/593 [00:17<00:00, 33.36it/s, loss=0.109, v_num=7][epoch_avg_train_loss=0.11152]\n",
      "Epoch 2: 100%|█████████▉| 592/593 [00:17<00:00, 33.54it/s, loss=0.114, v_num=7][epoch_avg_val_loss=0.03429, VAL_ROC_AUC=0.99824, VAL_F1=0.99493, VAL_Accuracy=0.99097]\n",
      "best_stat: [epoch_avg_val_loss=0.03429(epoch:2), VAL_ROC_AUC=0.99871(epoch:0), VAL_F1=0.99493(epoch:2), VAL_Accuracy=0.99097(epoch:2)]\n",
      "Epoch 2: 100%|██████████| 593/593 [00:17<00:00, 33.50it/s, loss=0.114, v_num=7][epoch_avg_train_loss=0.10699]\n",
      "Epoch 3:  99%|█████████▉| 588/593 [00:17<00:00, 33.37it/s, loss=0.107, v_num=7][epoch_avg_val_loss=0.05342, VAL_ROC_AUC=0.99641, VAL_F1=0.99417, VAL_Accuracy=0.98962]\n",
      "best_stat: [epoch_avg_val_loss=0.03429(epoch:2), VAL_ROC_AUC=0.99871(epoch:0), VAL_F1=0.99493(epoch:2), VAL_Accuracy=0.99097(epoch:2)]\n",
      "Epoch 3: 100%|██████████| 593/593 [00:17<00:00, 33.40it/s, loss=0.107, v_num=7][epoch_avg_train_loss=0.11086]\n",
      "Epoch 4:  99%|█████████▉| 588/593 [00:17<00:00, 33.09it/s, loss=0.0807, v_num=7][epoch_avg_val_loss=0.03201, VAL_ROC_AUC=0.99814, VAL_F1=0.99514, VAL_Accuracy=0.99135]\n",
      "best_stat: [epoch_avg_val_loss=0.03201(epoch:4), VAL_ROC_AUC=0.99871(epoch:0), VAL_F1=0.99514(epoch:4), VAL_Accuracy=0.99135(epoch:4)]\n",
      "Epoch 4: 100%|██████████| 593/593 [00:17<00:00, 33.13it/s, loss=0.0807, v_num=7][epoch_avg_train_loss=0.09819]\n",
      "Epoch 5:  99%|█████████▉| 588/593 [00:18<00:00, 32.61it/s, loss=0.0678, v_num=7][epoch_avg_val_loss=0.03269, VAL_ROC_AUC=0.99891, VAL_F1=0.99547, VAL_Accuracy=0.99193]\n",
      "best_stat: [epoch_avg_val_loss=0.03201(epoch:4), VAL_ROC_AUC=0.99891(epoch:5), VAL_F1=0.99547(epoch:5), VAL_Accuracy=0.99193(epoch:5)]\n",
      "Epoch 5: 100%|██████████| 593/593 [00:18<00:00, 32.61it/s, loss=0.0678, v_num=7][epoch_avg_train_loss=0.08693]\n",
      "Epoch 6:  99%|█████████▉| 588/593 [00:17<00:00, 33.13it/s, loss=0.105, v_num=7][epoch_avg_val_loss=0.07187, VAL_ROC_AUC=0.99667, VAL_F1=0.99297, VAL_Accuracy=0.98751]\n",
      "best_stat: [epoch_avg_val_loss=0.03201(epoch:4), VAL_ROC_AUC=0.99891(epoch:5), VAL_F1=0.99547(epoch:5), VAL_Accuracy=0.99193(epoch:5)]\n",
      "Epoch 6: 100%|██████████| 593/593 [00:17<00:00, 33.17it/s, loss=0.105, v_num=7][epoch_avg_train_loss=0.09454]\n",
      "Epoch 7:  99%|█████████▉| 588/593 [00:17<00:00, 33.75it/s, loss=0.104, v_num=7][epoch_avg_val_loss=0.04733, VAL_ROC_AUC=0.99871, VAL_F1=0.99406, VAL_Accuracy=0.98943]\n",
      "best_stat: [epoch_avg_val_loss=0.03201(epoch:4), VAL_ROC_AUC=0.99891(epoch:5), VAL_F1=0.99547(epoch:5), VAL_Accuracy=0.99193(epoch:5)]\n",
      "Epoch 7: 100%|██████████| 593/593 [00:17<00:00, 33.78it/s, loss=0.104, v_num=7][epoch_avg_train_loss=0.08784]\n",
      "Epoch 8:  99%|█████████▉| 588/593 [00:18<00:00, 32.20it/s, loss=0.0673, v_num=7][epoch_avg_val_loss=0.03227, VAL_ROC_AUC=0.99887, VAL_F1=0.99308, VAL_Accuracy=0.98770]\n",
      "best_stat: [epoch_avg_val_loss=0.03201(epoch:4), VAL_ROC_AUC=0.99891(epoch:5), VAL_F1=0.99547(epoch:5), VAL_Accuracy=0.99193(epoch:5)]\n",
      "Epoch 8: 100%|██████████| 593/593 [00:18<00:00, 32.23it/s, loss=0.0673, v_num=7][epoch_avg_train_loss=0.08224]\n",
      "Epoch 9:  99%|█████████▉| 588/593 [00:18<00:00, 32.34it/s, loss=0.0925, v_num=7][epoch_avg_val_loss=0.03330, VAL_ROC_AUC=0.99870, VAL_F1=0.99384, VAL_Accuracy=0.98905]\n",
      "best_stat: [epoch_avg_val_loss=0.03201(epoch:4), VAL_ROC_AUC=0.99891(epoch:5), VAL_F1=0.99547(epoch:5), VAL_Accuracy=0.99193(epoch:5)]\n",
      "Epoch 9: 100%|██████████| 593/593 [00:18<00:00, 32.36it/s, loss=0.0925, v_num=7][epoch_avg_train_loss=0.09897]\n",
      "Epoch 10:  99%|█████████▉| 588/593 [00:18<00:00, 32.15it/s, loss=0.0693, v_num=7][epoch_avg_val_loss=0.03128, VAL_ROC_AUC=0.99917, VAL_F1=0.99471, VAL_Accuracy=0.99058]\n",
      "best_stat: [epoch_avg_val_loss=0.03128(epoch:10), VAL_ROC_AUC=0.99917(epoch:10), VAL_F1=0.99547(epoch:5), VAL_Accuracy=0.99193(epoch:5)]\n",
      "Epoch 10: 100%|██████████| 593/593 [00:18<00:00, 32.18it/s, loss=0.0693, v_num=7][epoch_avg_train_loss=0.07922]\n",
      "Epoch 11:  99%|█████████▉| 588/593 [00:18<00:00, 32.46it/s, loss=0.0809, v_num=7][epoch_avg_val_loss=0.03808, VAL_ROC_AUC=0.99884, VAL_F1=0.99493, VAL_Accuracy=0.99097]\n",
      "best_stat: [epoch_avg_val_loss=0.03128(epoch:10), VAL_ROC_AUC=0.99917(epoch:10), VAL_F1=0.99547(epoch:5), VAL_Accuracy=0.99193(epoch:5)]\n",
      "Epoch 11: 100%|██████████| 593/593 [00:18<00:00, 32.49it/s, loss=0.0809, v_num=7][epoch_avg_train_loss=0.07240]\n",
      "Epoch 12:  99%|█████████▉| 588/593 [00:18<00:00, 32.37it/s, loss=0.04, v_num=7][epoch_avg_val_loss=0.04629, VAL_ROC_AUC=0.99859, VAL_F1=0.99449, VAL_Accuracy=0.99020]\n",
      "best_stat: [epoch_avg_val_loss=0.03128(epoch:10), VAL_ROC_AUC=0.99917(epoch:10), VAL_F1=0.99547(epoch:5), VAL_Accuracy=0.99193(epoch:5)]\n",
      "Epoch 12: 100%|██████████| 593/593 [00:18<00:00, 32.38it/s, loss=0.04, v_num=7][epoch_avg_train_loss=0.07502]\n",
      "Epoch 13:  99%|█████████▉| 588/593 [00:18<00:00, 32.23it/s, loss=0.0799, v_num=7][epoch_avg_val_loss=0.03569, VAL_ROC_AUC=0.99890, VAL_F1=0.99547, VAL_Accuracy=0.99193]\n",
      "best_stat: [epoch_avg_val_loss=0.03128(epoch:10), VAL_ROC_AUC=0.99917(epoch:10), VAL_F1=0.99547(epoch:13), VAL_Accuracy=0.99193(epoch:5)]\n",
      "Epoch 13: 100%|██████████| 593/593 [00:18<00:00, 32.26it/s, loss=0.0799, v_num=7][epoch_avg_train_loss=0.07753]\n",
      "Epoch 14:  99%|█████████▉| 588/593 [00:18<00:00, 32.13it/s, loss=0.0712, v_num=7][epoch_avg_val_loss=0.03160, VAL_ROC_AUC=0.99770, VAL_F1=0.99417, VAL_Accuracy=0.98962]\n",
      "best_stat: [epoch_avg_val_loss=0.03128(epoch:10), VAL_ROC_AUC=0.99917(epoch:10), VAL_F1=0.99547(epoch:13), VAL_Accuracy=0.99193(epoch:5)]\n",
      "Epoch 14: 100%|██████████| 593/593 [00:18<00:00, 32.15it/s, loss=0.0712, v_num=7][epoch_avg_train_loss=0.08465]\n",
      "Epoch 15:  99%|█████████▉| 588/593 [00:18<00:00, 32.37it/s, loss=0.0722, v_num=7][epoch_avg_val_loss=0.02447, VAL_ROC_AUC=0.99878, VAL_F1=0.99612, VAL_Accuracy=0.99308]\n",
      "best_stat: [epoch_avg_val_loss=0.02447(epoch:15), VAL_ROC_AUC=0.99917(epoch:10), VAL_F1=0.99612(epoch:15), VAL_Accuracy=0.99308(epoch:15)]\n",
      "Epoch 15: 100%|██████████| 593/593 [00:18<00:00, 32.36it/s, loss=0.0722, v_num=7][epoch_avg_train_loss=0.10316]\n",
      "Epoch 16:  99%|█████████▉| 588/593 [00:18<00:00, 32.26it/s, loss=0.0934, v_num=7][epoch_avg_val_loss=0.03355, VAL_ROC_AUC=0.99840, VAL_F1=0.99438, VAL_Accuracy=0.99001]\n",
      "best_stat: [epoch_avg_val_loss=0.02447(epoch:15), VAL_ROC_AUC=0.99917(epoch:10), VAL_F1=0.99612(epoch:15), VAL_Accuracy=0.99308(epoch:15)]\n",
      "Epoch 16: 100%|██████████| 593/593 [00:18<00:00, 32.28it/s, loss=0.0934, v_num=7][epoch_avg_train_loss=0.07958]\n",
      "Epoch 17:  99%|█████████▉| 588/593 [00:18<00:00, 32.19it/s, loss=0.0944, v_num=7][epoch_avg_val_loss=0.03310, VAL_ROC_AUC=0.99858, VAL_F1=0.99373, VAL_Accuracy=0.98885]\n",
      "best_stat: [epoch_avg_val_loss=0.02447(epoch:15), VAL_ROC_AUC=0.99917(epoch:10), VAL_F1=0.99612(epoch:15), VAL_Accuracy=0.99308(epoch:15)]\n",
      "Epoch 17: 100%|██████████| 593/593 [00:18<00:00, 32.23it/s, loss=0.0944, v_num=7][epoch_avg_train_loss=0.08092]\n",
      "Epoch 18:  99%|█████████▉| 588/593 [00:17<00:00, 32.82it/s, loss=0.103, v_num=7][epoch_avg_val_loss=0.03094, VAL_ROC_AUC=0.99840, VAL_F1=0.99536, VAL_Accuracy=0.99174]\n",
      "best_stat: [epoch_avg_val_loss=0.02447(epoch:15), VAL_ROC_AUC=0.99917(epoch:10), VAL_F1=0.99612(epoch:15), VAL_Accuracy=0.99308(epoch:15)]\n",
      "Epoch 18: 100%|██████████| 593/593 [00:18<00:00, 32.85it/s, loss=0.103, v_num=7][epoch_avg_train_loss=0.08074]\n",
      "Epoch 19:  99%|█████████▉| 588/593 [00:17<00:00, 32.83it/s, loss=0.0798, v_num=7][epoch_avg_val_loss=0.03219, VAL_ROC_AUC=0.99872, VAL_F1=0.99449, VAL_Accuracy=0.99020]\n",
      "best_stat: [epoch_avg_val_loss=0.02447(epoch:15), VAL_ROC_AUC=0.99917(epoch:10), VAL_F1=0.99612(epoch:15), VAL_Accuracy=0.99308(epoch:15)]\n",
      "Epoch 19: 100%|██████████| 593/593 [00:18<00:00, 32.87it/s, loss=0.0798, v_num=7][epoch_avg_train_loss=0.07636]\n",
      "Epoch 20:  99%|█████████▉| 588/593 [00:17<00:00, 32.94it/s, loss=0.0696, v_num=7][epoch_avg_val_loss=0.04389, VAL_ROC_AUC=0.99862, VAL_F1=0.99579, VAL_Accuracy=0.99251]\n",
      "best_stat: [epoch_avg_val_loss=0.02447(epoch:15), VAL_ROC_AUC=0.99917(epoch:10), VAL_F1=0.99612(epoch:15), VAL_Accuracy=0.99308(epoch:15)]\n",
      "Epoch 20: 100%|██████████| 593/593 [00:17<00:00, 32.97it/s, loss=0.0696, v_num=7][epoch_avg_train_loss=0.08297]\n",
      "Epoch 21:  99%|█████████▉| 588/593 [00:18<00:00, 32.64it/s, loss=0.0766, v_num=7][epoch_avg_val_loss=0.03979, VAL_ROC_AUC=0.99878, VAL_F1=0.99492, VAL_Accuracy=0.99097]\n",
      "best_stat: [epoch_avg_val_loss=0.02447(epoch:15), VAL_ROC_AUC=0.99917(epoch:10), VAL_F1=0.99612(epoch:15), VAL_Accuracy=0.99308(epoch:15)]\n",
      "Epoch 21: 100%|██████████| 593/593 [00:18<00:00, 32.66it/s, loss=0.0766, v_num=7][epoch_avg_train_loss=0.08008]\n",
      "Epoch 22:  99%|█████████▉| 588/593 [00:18<00:00, 32.57it/s, loss=0.104, v_num=7][epoch_avg_val_loss=0.05948, VAL_ROC_AUC=0.99814, VAL_F1=0.99438, VAL_Accuracy=0.99001]\n",
      "best_stat: [epoch_avg_val_loss=0.02447(epoch:15), VAL_ROC_AUC=0.99917(epoch:10), VAL_F1=0.99612(epoch:15), VAL_Accuracy=0.99308(epoch:15)]\n",
      "Epoch 22: 100%|██████████| 593/593 [00:18<00:00, 32.61it/s, loss=0.104, v_num=7][epoch_avg_train_loss=0.07658]\n",
      "Epoch 23:  99%|█████████▉| 588/593 [00:18<00:00, 32.50it/s, loss=0.0805, v_num=7][epoch_avg_val_loss=0.02841, VAL_ROC_AUC=0.99715, VAL_F1=0.99558, VAL_Accuracy=0.99212]\n",
      "best_stat: [epoch_avg_val_loss=0.02447(epoch:15), VAL_ROC_AUC=0.99917(epoch:10), VAL_F1=0.99612(epoch:15), VAL_Accuracy=0.99308(epoch:15)]\n",
      "Epoch 23: 100%|██████████| 593/593 [00:18<00:00, 32.52it/s, loss=0.0805, v_num=7][epoch_avg_train_loss=0.07741]\n",
      "Epoch 24:  99%|█████████▉| 588/593 [00:17<00:00, 32.75it/s, loss=0.0915, v_num=7][epoch_avg_val_loss=0.03464, VAL_ROC_AUC=0.99795, VAL_F1=0.99482, VAL_Accuracy=0.99078]\n",
      "best_stat: [epoch_avg_val_loss=0.02447(epoch:15), VAL_ROC_AUC=0.99917(epoch:10), VAL_F1=0.99612(epoch:15), VAL_Accuracy=0.99308(epoch:15)]\n",
      "Epoch 24: 100%|██████████| 593/593 [00:18<00:00, 32.79it/s, loss=0.0915, v_num=7][epoch_avg_train_loss=0.09838]\n",
      "Epoch 25:  99%|█████████▉| 588/593 [00:18<00:00, 32.62it/s, loss=0.101, v_num=7][epoch_avg_val_loss=0.02769, VAL_ROC_AUC=0.99780, VAL_F1=0.99471, VAL_Accuracy=0.99058]\n",
      "best_stat: [epoch_avg_val_loss=0.02447(epoch:15), VAL_ROC_AUC=0.99917(epoch:10), VAL_F1=0.99612(epoch:15), VAL_Accuracy=0.99308(epoch:15)]\n",
      "Epoch 25: 100%|██████████| 593/593 [00:18<00:00, 32.66it/s, loss=0.101, v_num=7][epoch_avg_train_loss=0.07987]\n",
      "Epoch 26:  99%|█████████▉| 588/593 [00:18<00:00, 32.53it/s, loss=0.0689, v_num=7][epoch_avg_val_loss=0.04045, VAL_ROC_AUC=0.99852, VAL_F1=0.99525, VAL_Accuracy=0.99154]\n",
      "best_stat: [epoch_avg_val_loss=0.02447(epoch:15), VAL_ROC_AUC=0.99917(epoch:10), VAL_F1=0.99612(epoch:15), VAL_Accuracy=0.99308(epoch:15)]\n",
      "Epoch 26: 100%|██████████| 593/593 [00:18<00:00, 32.58it/s, loss=0.0689, v_num=7][epoch_avg_train_loss=0.07935]\n",
      "Epoch 27:  99%|█████████▉| 588/593 [00:17<00:00, 33.24it/s, loss=0.0681, v_num=7][epoch_avg_val_loss=0.02858, VAL_ROC_AUC=0.99765, VAL_F1=0.99579, VAL_Accuracy=0.99251]\n",
      "best_stat: [epoch_avg_val_loss=0.02447(epoch:15), VAL_ROC_AUC=0.99917(epoch:10), VAL_F1=0.99612(epoch:15), VAL_Accuracy=0.99308(epoch:15)]\n",
      "Epoch 27: 100%|██████████| 593/593 [00:17<00:00, 33.25it/s, loss=0.0681, v_num=7][epoch_avg_train_loss=0.07608]\n",
      "Epoch 28:  99%|█████████▉| 588/593 [00:18<00:00, 32.46it/s, loss=0.0809, v_num=7][epoch_avg_val_loss=0.02431, VAL_ROC_AUC=0.99841, VAL_F1=0.99644, VAL_Accuracy=0.99366]\n",
      "best_stat: [epoch_avg_val_loss=0.02431(epoch:28), VAL_ROC_AUC=0.99917(epoch:10), VAL_F1=0.99644(epoch:28), VAL_Accuracy=0.99366(epoch:28)]\n",
      "Epoch 28: 100%|██████████| 593/593 [00:18<00:00, 32.50it/s, loss=0.0809, v_num=7][epoch_avg_train_loss=0.07516]\n",
      "Epoch 29:  99%|█████████▉| 588/593 [00:17<00:00, 32.71it/s, loss=0.0789, v_num=7][epoch_avg_val_loss=0.02882, VAL_ROC_AUC=0.99814, VAL_F1=0.99438, VAL_Accuracy=0.99001]\n",
      "best_stat: [epoch_avg_val_loss=0.02431(epoch:28), VAL_ROC_AUC=0.99917(epoch:10), VAL_F1=0.99644(epoch:28), VAL_Accuracy=0.99366(epoch:28)]\n",
      "Epoch 29: 100%|██████████| 593/593 [00:18<00:00, 32.74it/s, loss=0.0789, v_num=7][epoch_avg_train_loss=0.08205]\n",
      "Epoch 29: 100%|██████████| 593/593 [00:18<00:00, 32.27it/s, loss=0.0789, v_num=7]\n"
     ]
    },
    {
     "data": {
      "image/png": "[encoded data removed]",
      "text/plain": [
       "<Figure size 432x288 with 1 Axes>"
      ]
     },
     "metadata": {
      "needs_background": "light"
     },
     "output_type": "display_data"
    }
   ],
   "source": [
    "encoder = SpectrumCNN()\n",
    "\n",
    "# encoder = models.resnet18(num_classes=512)\n",
    "\n",
    "lit_model = CNN_classifier(encoder=encoder)\n",
    "\n",
    "### prepare trainer\n",
    "\n",
    "trainer = pl.Trainer(\n",
    "    auto_lr_find=True,\n",
    "    gpus=1, max_epochs=30,\n",
    "    enable_checkpointing=True,\n",
    "    log_every_n_steps=10,\n",
    "    amp_backend=\"native\",\n",
    "    num_sanity_val_steps=0\n",
    ")\n",
    "# Run learning rate finder\n",
    "lr_finder = trainer.tuner.lr_find(lit_model, train_dataloaders=train_dataloader)\n",
    "\n",
    "# Results can be found in\n",
    "lr_finder.results\n",
    "\n",
    "# Plot with\n",
    "fig = lr_finder.plot(suggest=True)\n",
    "fig.show()\n",
    "print(lr_finder.suggestion())\n",
    "\n",
    "# Pick point based on plot, or get suggestion\n",
    "new_lr = lr_finder.suggestion()\n",
    "\n",
    "# update hparams of the model\n",
    "lit_model.hparams.lr = new_lr\n",
    "\n",
    "# Fit model\n",
    "trainer.fit(lit_model, train_dataloaders=train_dataloader, val_dataloaders=val_dataloader)"
   ]
  },
  {
   "cell_type": "code",
   "execution_count": 9,
   "metadata": {},
   "outputs": [
    {
     "name": "stdout",
     "output_type": "stream",
     "text": [
      "----------------------------------------------------------------\n",
      "        Layer (type)               Output Shape         Param #\n",
      "================================================================\n",
      "            Conv2d-1           [-1, 48, 54, 54]          17,472\n",
      "              ReLU-2           [-1, 48, 54, 54]               0\n",
      "         MaxPool2d-3           [-1, 48, 27, 27]               0\n",
      "            Conv2d-4          [-1, 128, 23, 23]         153,728\n",
      "              ReLU-5          [-1, 128, 23, 23]               0\n",
      "         MaxPool2d-6          [-1, 128, 11, 11]               0\n",
      "            Conv2d-7            [-1, 192, 9, 9]         221,376\n",
      "              ReLU-8            [-1, 192, 9, 9]               0\n",
      "            Conv2d-9            [-1, 192, 7, 7]         331,968\n",
      "             ReLU-10            [-1, 192, 7, 7]               0\n",
      "           Conv2d-11            [-1, 128, 5, 5]         221,312\n",
      "             ReLU-12            [-1, 128, 5, 5]               0\n",
      "          Flatten-13                 [-1, 3200]               0\n",
      "           Linear-14                 [-1, 1024]       3,277,824\n",
      "             ReLU-15                 [-1, 1024]               0\n",
      "          Dropout-16                 [-1, 1024]               0\n",
      "           Linear-17                 [-1, 1024]       1,049,600\n",
      "             ReLU-18                 [-1, 1024]               0\n",
      "          Dropout-19                 [-1, 1024]               0\n",
      "           Linear-20                  [-1, 512]         524,800\n",
      "================================================================\n",
      "Total params: 5,798,080\n",
      "Trainable params: 5,798,080\n",
      "Non-trainable params: 0\n",
      "----------------------------------------------------------------\n",
      "Input size (MB): 0.05\n",
      "Forward/backward pass size (MB): 4.06\n",
      "Params size (MB): 22.12\n",
      "Estimated Total Size (MB): 26.22\n",
      "----------------------------------------------------------------\n"
     ]
    }
   ],
   "source": [
    "from torchsummary import summary\n",
    "summary(SpectrumCNN(), (3, 64, 64), device='cpu')"
   ]
  },
  {
   "cell_type": "code",
   "execution_count": null,
   "metadata": {},
   "outputs": [],
   "source": []
  }
 ],
 "metadata": {
  "interpreter": {
   "hash": "187d5286943f21d9253b18f2ae7d73b9f3347e4e4fa50c2237ebd390cd54a456"
  },
  "kernelspec": {
   "display_name": "Python 3.9.7 64-bit ('pytorch_base': conda)",
   "language": "python",
   "name": "python3"
  },
  "language_info": {
   "codemirror_mode": {
    "name": "ipython",
    "version": 3
   },
   "file_extension": ".py",
   "mimetype": "text/x-python",
   "name": "python",
   "nbconvert_exporter": "python",
   "pygments_lexer": "ipython3",
   "version": "3.9.7"
  },
  "orig_nbformat": 4
 },
 "nbformat": 4,
 "nbformat_minor": 2
}
