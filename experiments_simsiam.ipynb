{
 "cells": [
  {
   "cell_type": "code",
   "execution_count": null,
   "metadata": {},
   "outputs": [],
   "source": [
    "SEED_EXPERIMENT=0"
   ]
  },
  {
   "cell_type": "code",
   "execution_count": null,
   "metadata": {},
   "outputs": [],
   "source": [
    "import numpy as np\n",
    "import pandas as pd\n",
    "import tqdm.notebook as tqdm\n",
    "\n",
    "import torch\n",
    "from torch import nn, optim\n",
    "import torch.nn.functional as F\n",
    "from torch.utils.data import Dataset, DataLoader\n",
    "\n",
    "import torchvision\n",
    "from torchvision import models\n",
    "from models.utils import save_model\n",
    "\n",
    "import pytorch_lightning as pl\n",
    "\n",
    "from transforms.transform import base_transform, augmented_transform, IdentityTransform, simsiam_representation_transform\n",
    "\n",
    "from models.encoders import get_resnet18_encoder, get_shufflenetv2_encoder, get_alexnet_encoder, SpectrumCNN\n",
    "\n",
    "from models.lit_models import CNN_classifier, SimSiam\n",
    "import os\n",
    "import random\n",
    "\n",
    "\n",
    "os.environ['PYTHONHASHSEED'] = str(SEED_EXPERIMENT)\n",
    "# Torch RNG\n",
    "torch.manual_seed(SEED_EXPERIMENT)\n",
    "torch.cuda.manual_seed(SEED_EXPERIMENT)\n",
    "torch.cuda.manual_seed_all(SEED_EXPERIMENT)\n",
    "# Python RNG\n",
    "np.random.seed(SEED_EXPERIMENT)\n",
    "random.seed(SEED_EXPERIMENT)\n",
    "\n",
    "batch_size = 64"
   ]
  },
  {
   "cell_type": "markdown",
   "metadata": {},
   "source": [
    "# 1. Choose the dataset!"
   ]
  },
  {
   "cell_type": "code",
   "execution_count": null,
   "metadata": {},
   "outputs": [],
   "source": [
    "DATASET_NAME = \"AMP_PHASE\"\n",
    "train_dataset_amp_phase = torchvision.datasets.ImageFolder('data/images_amp_phase/train', transform=base_transform)\n",
    "train_dataloader = DataLoader(train_dataset_amp_phase, shuffle=True, batch_size=batch_size, num_workers=1)"
   ]
  },
  {
   "cell_type": "code",
   "execution_count": null,
   "metadata": {},
   "outputs": [],
   "source": [
    "DATASET_NAME = \"SPECTROGRAM\"\n",
    "train_dataset_spectrogram = torchvision.datasets.ImageFolder('data/images_spectrogram/train', transform=base_transform)\n",
    "train_dataloader = DataLoader(train_dataset_spectrogram, shuffle=True, batch_size=batch_size, num_workers=1)"
   ]
  },
  {
   "cell_type": "markdown",
   "metadata": {},
   "source": [
    "# 2.Choose the model!"
   ]
  },
  {
   "cell_type": "code",
   "execution_count": null,
   "metadata": {},
   "outputs": [],
   "source": [
    "MODEL_NAME=\"RESNET_18\"\n",
    "encoder = get_resnet18_encoder()"
   ]
  },
  {
   "cell_type": "code",
   "execution_count": null,
   "metadata": {},
   "outputs": [],
   "source": [
    "MODEL_NAME=\"SHUFFLENET\"\n",
    "encoder = get_shufflenetv2_encoder()"
   ]
  },
  {
   "cell_type": "code",
   "execution_count": null,
   "metadata": {},
   "outputs": [],
   "source": [
    "MODEL_NAME=\"ALEXNET\"\n",
    "encoder = get_alexnet_encoder()"
   ]
  },
  {
   "cell_type": "code",
   "execution_count": null,
   "metadata": {},
   "outputs": [],
   "source": [
    "MODEL_NAME=\"SPECTRUM_CNN\"\n",
    "encoder=SpectrumCNN()"
   ]
  },
  {
   "cell_type": "markdown",
   "metadata": {},
   "source": [
    "# 3. Run everything below!"
   ]
  },
  {
   "cell_type": "code",
   "execution_count": null,
   "metadata": {},
   "outputs": [],
   "source": [
    "transform = simsiam_representation_transform\n",
    "lit_model = SimSiam(encoder=encoder, transforms=transform)"
   ]
  },
  {
   "cell_type": "code",
   "execution_count": null,
   "metadata": {},
   "outputs": [],
   "source": [
    "pretrainer = pl.Trainer(\n",
    "    auto_lr_find=True,\n",
    "    gpus=1, max_epochs=10,\n",
    "    enable_checkpointing=True,\n",
    "    log_every_n_steps=10,\n",
    "    flush_logs_every_n_steps=50\n",
    ")\n",
    "# Run learning rate finder\n",
    "lr_finder = pretrainer.tuner.lr_find(lit_model, train_dataloaders=train_dataloader)\n",
    "\n",
    "# Results can be found in\n",
    "lr_finder.results\n",
    "\n",
    "# Plot with\n",
    "fig = lr_finder.plot(suggest=True)\n",
    "fig.show()\n",
    "print(lr_finder.suggestion())"
   ]
  },
  {
   "cell_type": "code",
   "execution_count": null,
   "metadata": {},
   "outputs": [],
   "source": [
    "# Pick point based on plot, or get suggestion\n",
    "new_lr = lr_finder.suggestion()\n",
    "if new_lr is None:\n",
    "    new_lr = 1e-3\n",
    "\n",
    "# update hparams of the model\n",
    "lit_model.hparams.lr = new_lr\n",
    "\n",
    "# # Fit model\n",
    "pretrainer.fit(lit_model, train_dataloaders=train_dataloader)"
   ]
  },
  {
   "cell_type": "code",
   "execution_count": null,
   "metadata": {},
   "outputs": [],
   "source": [
    "save_model(model=lit_model.encoder, save_path=f\"pretrained_encoders/{DATASET_NAME}__{MODEL_NAME}.pth\",)"
   ]
  },
  {
   "cell_type": "markdown",
   "metadata": {},
   "source": [
    "# Learning Rate used:\n",
    "- RESNET18 (0, 1): amp=2.7542287033381663e-05, spec=4.786300923226385e-05\n",
    "- SHUFFLENET (2, 3): amp=failed(1e-3), spec=failed(1e-3)\n",
    "- AlexNet(4, 6): amp=failed(1e-3), spec=failed(1e-3)\n",
    "- SpectrumCNN(7, 8): amp=failed(1e-3), spec=failed(1e-3)"
   ]
  }
 ],
 "metadata": {
  "interpreter": {
   "hash": "187d5286943f21d9253b18f2ae7d73b9f3347e4e4fa50c2237ebd390cd54a456"
  },
  "kernelspec": {
   "display_name": "Python 3.9.7 64-bit ('pytorch_base': conda)",
   "language": "python",
   "name": "python3"
  },
  "language_info": {
   "codemirror_mode": {
    "name": "ipython",
    "version": 3
   },
   "file_extension": ".py",
   "mimetype": "text/x-python",
   "name": "python",
   "nbconvert_exporter": "python",
   "pygments_lexer": "ipython3",
   "version": "3.9.7"
  },
  "orig_nbformat": 4
 },
 "nbformat": 4,
 "nbformat_minor": 2
}
