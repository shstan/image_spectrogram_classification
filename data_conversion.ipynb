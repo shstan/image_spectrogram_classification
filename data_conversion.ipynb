{
 "cells": [
  {
   "cell_type": "code",
   "execution_count": 1,
   "metadata": {},
   "outputs": [],
   "source": [
    "import numpy as np\n",
    "import pandas as pd"
   ]
  },
  {
   "cell_type": "code",
   "execution_count": 2,
   "metadata": {},
   "outputs": [],
   "source": [
    "train_labels1 = pd.read_csv('data/AllData/labels/amp_phase/trainD1.txt', delimiter=' ', names=['datapath', 'target'])\n",
    "train_labels1['datapath'] = train_labels1.datapath.str.replace('/PATH_TO_DATA', 'data/AllData/imgs/images_amp_phase').str.replace(\"1.32\", \"1_32\", regex=False )\n",
    "train_labels1.to_csv('data/train_amp_phase.csv', index=False)\n",
    "\n",
    "train_labels2 = pd.read_csv('data/AllData/labels/spectrogram/trainD2.txt', delimiter=' ', names=['datapath', 'target'])\n",
    "train_labels2['datapath'] = train_labels2.datapath.str.replace('/PATH_TO_DATA', 'data/AllData/imgs/images_spectrogram').str.replace(\"1.32\", \"1_32\", regex=False )\n",
    "train_labels2.to_csv('data/train_spectrogram.csv', index=False)"
   ]
  },
  {
   "cell_type": "code",
   "execution_count": 3,
   "metadata": {},
   "outputs": [],
   "source": [
    "test_labels1 = pd.read_csv('data/AllData/labels/amp_phase/testD1.txt', delimiter=' ', names=['datapath', 'target'])\n",
    "test_labels1['datapath'] = test_labels1.datapath.str.replace('/PATH_TO_DATA', 'data/AllData/imgs/images_amp_phase').str.replace(\"1.32\", \"1_32\", regex=False )\n",
    "test_labels1.to_csv('data/test_amp_phase.csv', index=False)\n",
    "\n",
    "test_labels2 = pd.read_csv('data/AllData/labels/spectrogram/testD2.txt', delimiter=' ', names=['datapath', 'target'])\n",
    "test_labels2['datapath'] = test_labels2.datapath.str.replace('/PATH_TO_DATA', 'data/AllData/imgs/images_spectrogram').str.replace(\"1.32\", \"1_32\", regex=False )\n",
    "test_labels2.to_csv('data/test_spectrogram.csv', index=False)"
   ]
  },
  {
   "cell_type": "code",
   "execution_count": 8,
   "metadata": {},
   "outputs": [
    {
     "name": "stdout",
     "output_type": "stream",
     "text": [
      "28000\n"
     ]
    },
    {
     "data": {
      "text/plain": [
       "56000"
      ]
     },
     "execution_count": 8,
     "metadata": {},
     "output_type": "execute_result"
    }
   ],
   "source": [
    "print(train_labels1['target'].sum())\n",
    "len(train_labels1)"
   ]
  },
  {
   "cell_type": "code",
   "execution_count": 9,
   "metadata": {},
   "outputs": [
    {
     "name": "stdout",
     "output_type": "stream",
     "text": [
      "35000\n"
     ]
    },
    {
     "data": {
      "text/plain": [
       "67997"
      ]
     },
     "execution_count": 9,
     "metadata": {},
     "output_type": "execute_result"
    }
   ],
   "source": [
    "print(train_labels2['target'].sum())\n",
    "len(train_labels2)"
   ]
  },
  {
   "cell_type": "code",
   "execution_count": 4,
   "metadata": {},
   "outputs": [],
   "source": [
    "import os\n",
    "import sys\n",
    "from shutil import copy2\n",
    "for index, row in train_labels1.iterrows():\n",
    "    copy2(src=row['datapath'], dst=f'data/images_amp_phase/train/{row[\"target\"]}')\n",
    "for index, row in train_labels2.iterrows():\n",
    "    copy2(src=row['datapath'], dst=f'data/images_spectrogram/train/{row[\"target\"]}')\n",
    "for index, row in test_labels1.iterrows():\n",
    "    copy2(src=row['datapath'], dst=f'data/images_amp_phase/test/{row[\"target\"]}')\n",
    "for index, row in test_labels2.iterrows():\n",
    "    copy2(src=row['datapath'], dst=f'data/images_spectrogram/test/{row[\"target\"]}')"
   ]
  },
  {
   "cell_type": "code",
   "execution_count": 5,
   "metadata": {},
   "outputs": [
    {
     "name": "stdout",
     "output_type": "stream",
     "text": [
      "radar_lte_f906_g0_fcn3_1_32fc_0000000002.jpg\n"
     ]
    }
   ],
   "source": [
    "!ls data/AllData/imgs/images_amp_phase/ | grep -i 'radar_lte_f906_g0_fcn3_1.32fc_0000000002'"
   ]
  }
 ],
 "metadata": {
  "interpreter": {
   "hash": "187d5286943f21d9253b18f2ae7d73b9f3347e4e4fa50c2237ebd390cd54a456"
  },
  "kernelspec": {
   "display_name": "Python 3.9.7 64-bit ('pytorch_base': conda)",
   "language": "python",
   "name": "python3"
  },
  "language_info": {
   "codemirror_mode": {
    "name": "ipython",
    "version": 3
   },
   "file_extension": ".py",
   "mimetype": "text/x-python",
   "name": "python",
   "nbconvert_exporter": "python",
   "pygments_lexer": "ipython3",
   "version": "3.9.7"
  },
  "orig_nbformat": 4
 },
 "nbformat": 4,
 "nbformat_minor": 2
}
